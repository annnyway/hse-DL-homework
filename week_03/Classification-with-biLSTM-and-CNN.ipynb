{
 "cells": [
  {
   "cell_type": "code",
   "execution_count": 1,
   "metadata": {
    "colab": {
     "base_uri": "https://localhost:8080/",
     "height": 513
    },
    "colab_type": "code",
    "id": "Y0fOWhqwW-AT",
    "outputId": "90e23c48-ae91-47c8-c415-047804857709",
    "scrolled": true
   },
   "outputs": [
    {
     "name": "stdout",
     "output_type": "stream",
     "text": [
      "Collecting pandas\n",
      "\u001b[?25l  Downloading https://files.pythonhosted.org/packages/91/9d/217fc3c4fe19123fcb99385a35c3211e65d5eb07fbe8dd0008fae0d1fe74/pandas-0.25.2-cp37-cp37m-manylinux1_x86_64.whl (10.4MB)\n",
      "\u001b[K    100% |████████████████████████████████| 10.4MB 3.4MB/s ta 0:00:011\n",
      "\u001b[?25hRequirement already satisfied: numpy>=1.13.3 in /opt/conda/lib/python3.7/site-packages (from pandas) (1.15.4)\n",
      "Requirement already satisfied: python-dateutil>=2.6.1 in /opt/conda/lib/python3.7/site-packages (from pandas) (2.8.0)\n",
      "Collecting pytz>=2017.2 (from pandas)\n",
      "\u001b[?25l  Downloading https://files.pythonhosted.org/packages/e7/f9/f0b53f88060247251bf481fa6ea62cd0d25bf1b11a87888e53ce5b7c8ad2/pytz-2019.3-py2.py3-none-any.whl (509kB)\n",
      "\u001b[K    100% |████████████████████████████████| 512kB 7.3MB/s ta 0:00:011\n",
      "\u001b[?25hRequirement already satisfied: six>=1.5 in /opt/conda/lib/python3.7/site-packages (from python-dateutil>=2.6.1->pandas) (1.11.0)\n",
      "Installing collected packages: pytz, pandas\n",
      "Successfully installed pandas-0.25.2 pytz-2019.3\n",
      "\u001b[33mYou are using pip version 10.0.1, however version 19.3.1 is available.\n",
      "You should consider upgrading via the 'pip install --upgrade pip' command.\u001b[0m\n",
      "Requirement already satisfied: torch in /opt/conda/lib/python3.7/site-packages (1.0.0)\n",
      "\u001b[33mYou are using pip version 10.0.1, however version 19.3.1 is available.\n",
      "You should consider upgrading via the 'pip install --upgrade pip' command.\u001b[0m\n",
      "Collecting nltk\n",
      "\u001b[?25l  Downloading https://files.pythonhosted.org/packages/f6/1d/d925cfb4f324ede997f6d47bea4d9babba51b49e87a767c170b77005889d/nltk-3.4.5.zip (1.5MB)\n",
      "\u001b[K    100% |████████████████████████████████| 1.5MB 7.7MB/s ta 0:00:011\n",
      "\u001b[?25hRequirement already satisfied: six in /opt/conda/lib/python3.7/site-packages (from nltk) (1.11.0)\n",
      "Building wheels for collected packages: nltk\n",
      "  Running setup.py bdist_wheel for nltk ... \u001b[?25ldone\n",
      "\u001b[?25h  Stored in directory: /root/.cache/pip/wheels/96/86/f6/68ab24c23f207c0077381a5e3904b2815136b879538a24b483\n",
      "Successfully built nltk\n",
      "Installing collected packages: nltk\n",
      "Successfully installed nltk-3.4.5\n",
      "\u001b[33mYou are using pip version 10.0.1, however version 19.3.1 is available.\n",
      "You should consider upgrading via the 'pip install --upgrade pip' command.\u001b[0m\n",
      "Collecting tqdm\n",
      "\u001b[?25l  Downloading https://files.pythonhosted.org/packages/e1/c1/bc1dba38b48f4ae3c4428aea669c5e27bd5a7642a74c8348451e0bd8ff86/tqdm-4.36.1-py2.py3-none-any.whl (52kB)\n",
      "\u001b[K    100% |████████████████████████████████| 61kB 4.7MB/s ta 0:00:011\n",
      "\u001b[?25hInstalling collected packages: tqdm\n",
      "Successfully installed tqdm-4.36.1\n",
      "\u001b[33mYou are using pip version 10.0.1, however version 19.3.1 is available.\n",
      "You should consider upgrading via the 'pip install --upgrade pip' command.\u001b[0m\n",
      "Collecting seaborn\n",
      "\u001b[?25l  Downloading https://files.pythonhosted.org/packages/a8/76/220ba4420459d9c4c9c9587c6ce607bf56c25b3d3d2de62056efe482dadc/seaborn-0.9.0-py3-none-any.whl (208kB)\n",
      "\u001b[K    100% |████████████████████████████████| 215kB 2.1MB/s ta 0:00:01\n",
      "\u001b[?25hRequirement already satisfied: scipy>=0.14.0 in /opt/conda/lib/python3.7/site-packages (from seaborn) (1.1.0)\n",
      "Requirement already satisfied: pandas>=0.15.2 in /opt/conda/lib/python3.7/site-packages (from seaborn) (0.25.2)\n",
      "Requirement already satisfied: numpy>=1.9.3 in /opt/conda/lib/python3.7/site-packages (from seaborn) (1.15.4)\n",
      "Collecting matplotlib>=1.4.3 (from seaborn)\n",
      "\u001b[?25l  Downloading https://files.pythonhosted.org/packages/19/7a/60bd79c5d79559150f8bba866dd7d434f0a170312e4d15e8aefa5faba294/matplotlib-3.1.1-cp37-cp37m-manylinux1_x86_64.whl (13.1MB)\n",
      "\u001b[K    100% |████████████████████████████████| 13.1MB 3.1MB/s ta 0:00:011\n",
      "\u001b[?25hRequirement already satisfied: pytz>=2017.2 in /opt/conda/lib/python3.7/site-packages (from pandas>=0.15.2->seaborn) (2019.3)\n",
      "Requirement already satisfied: python-dateutil>=2.6.1 in /opt/conda/lib/python3.7/site-packages (from pandas>=0.15.2->seaborn) (2.8.0)\n",
      "Collecting pyparsing!=2.0.4,!=2.1.2,!=2.1.6,>=2.0.1 (from matplotlib>=1.4.3->seaborn)\n",
      "\u001b[?25l  Downloading https://files.pythonhosted.org/packages/11/fa/0160cd525c62d7abd076a070ff02b2b94de589f1a9789774f17d7c54058e/pyparsing-2.4.2-py2.py3-none-any.whl (65kB)\n",
      "\u001b[K    100% |████████████████████████████████| 71kB 4.8MB/s ta 0:00:01\n",
      "\u001b[?25hCollecting kiwisolver>=1.0.1 (from matplotlib>=1.4.3->seaborn)\n",
      "\u001b[?25l  Downloading https://files.pythonhosted.org/packages/93/f8/518fb0bb89860eea6ff1b96483fbd9236d5ee991485d0f3eceff1770f654/kiwisolver-1.1.0-cp37-cp37m-manylinux1_x86_64.whl (90kB)\n",
      "\u001b[K    100% |████████████████████████████████| 92kB 7.3MB/s ta 0:00:01\n",
      "\u001b[?25hCollecting cycler>=0.10 (from matplotlib>=1.4.3->seaborn)\n",
      "  Downloading https://files.pythonhosted.org/packages/f7/d2/e07d3ebb2bd7af696440ce7e754c59dd546ffe1bbe732c8ab68b9c834e61/cycler-0.10.0-py2.py3-none-any.whl\n",
      "Requirement already satisfied: six>=1.5 in /opt/conda/lib/python3.7/site-packages (from python-dateutil>=2.6.1->pandas>=0.15.2->seaborn) (1.11.0)\n",
      "Requirement already satisfied: setuptools in /opt/conda/lib/python3.7/site-packages (from kiwisolver>=1.0.1->matplotlib>=1.4.3->seaborn) (40.2.0)\n",
      "Installing collected packages: pyparsing, kiwisolver, cycler, matplotlib, seaborn\n",
      "Successfully installed cycler-0.10.0 kiwisolver-1.1.0 matplotlib-3.1.1 pyparsing-2.4.2 seaborn-0.9.0\n",
      "\u001b[33mYou are using pip version 10.0.1, however version 19.3.1 is available.\n",
      "You should consider upgrading via the 'pip install --upgrade pip' command.\u001b[0m\n",
      "Requirement already satisfied: numpy in /opt/conda/lib/python3.7/site-packages (1.15.4)\n",
      "\u001b[33mYou are using pip version 10.0.1, however version 19.3.1 is available.\n",
      "You should consider upgrading via the 'pip install --upgrade pip' command.\u001b[0m\n",
      "Collecting sklearn\n",
      "  Downloading https://files.pythonhosted.org/packages/1e/7a/dbb3be0ce9bd5c8b7e3d87328e79063f8b263b2b1bfa4774cb1147bfcd3f/sklearn-0.0.tar.gz\n",
      "Collecting scikit-learn (from sklearn)\n",
      "\u001b[?25l  Downloading https://files.pythonhosted.org/packages/9f/c5/e5267eb84994e9a92a2c6a6ee768514f255d036f3c8378acfa694e9f2c99/scikit_learn-0.21.3-cp37-cp37m-manylinux1_x86_64.whl (6.7MB)\n",
      "\u001b[K    100% |████████████████████████████████| 6.7MB 5.4MB/s eta 0:00:01\n",
      "\u001b[?25hRequirement already satisfied: scipy>=0.17.0 in /opt/conda/lib/python3.7/site-packages (from scikit-learn->sklearn) (1.1.0)\n",
      "Requirement already satisfied: numpy>=1.11.0 in /opt/conda/lib/python3.7/site-packages (from scikit-learn->sklearn) (1.15.4)\n",
      "Collecting joblib>=0.11 (from scikit-learn->sklearn)\n",
      "\u001b[?25l  Downloading https://files.pythonhosted.org/packages/8f/42/155696f85f344c066e17af287359c9786b436b1bf86029bb3411283274f3/joblib-0.14.0-py2.py3-none-any.whl (294kB)\n",
      "\u001b[K    100% |████████████████████████████████| 296kB 2.6MB/s ta 0:00:01\n",
      "\u001b[?25hBuilding wheels for collected packages: sklearn\n",
      "  Running setup.py bdist_wheel for sklearn ... \u001b[?25ldone\n",
      "\u001b[?25h  Stored in directory: /root/.cache/pip/wheels/76/03/bb/589d421d27431bcd2c6da284d5f2286c8e3b2ea3cf1594c074\n",
      "Successfully built sklearn\n",
      "Installing collected packages: joblib, scikit-learn, sklearn\n",
      "Successfully installed joblib-0.14.0 scikit-learn-0.21.3 sklearn-0.0\n",
      "\u001b[33mYou are using pip version 10.0.1, however version 19.3.1 is available.\n",
      "You should consider upgrading via the 'pip install --upgrade pip' command.\u001b[0m\n"
     ]
    }
   ],
   "source": [
    "!pip install pandas\n",
    "!pip install torch\n",
    "!pip install nltk\n",
    "!pip install tqdm\n",
    "!pip install seaborn\n",
    "!pip install numpy\n",
    "!pip install sklearn"
   ]
  },
  {
   "cell_type": "code",
   "execution_count": 1,
   "metadata": {
    "colab": {
     "base_uri": "https://localhost:8080/",
     "height": 68
    },
    "colab_type": "code",
    "id": "u3wugeOHW-AV",
    "outputId": "f793940e-d389-423f-80ce-ac9152b740a5"
   },
   "outputs": [
    {
     "name": "stderr",
     "output_type": "stream",
     "text": [
      "[nltk_data] Downloading package punkt to /root/nltk_data...\n",
      "[nltk_data]   Package punkt is already up-to-date!\n"
     ]
    },
    {
     "data": {
      "text/plain": [
       "True"
      ]
     },
     "execution_count": 1,
     "metadata": {},
     "output_type": "execute_result"
    }
   ],
   "source": [
    "import nltk\n",
    "nltk.download('punkt')"
   ]
  },
  {
   "cell_type": "markdown",
   "metadata": {
    "colab_type": "text",
    "id": "m9XIrxSmW-AX"
   },
   "source": [
    "# Скачиваем данные"
   ]
  },
  {
   "cell_type": "code",
   "execution_count": 5,
   "metadata": {
    "colab": {},
    "colab_type": "code",
    "id": "BWA7IClKW-Aa",
    "scrolled": true
   },
   "outputs": [
    {
     "name": "stdout",
     "output_type": "stream",
     "text": [
      "Hit:1 http://archive.ubuntu.com/ubuntu xenial InRelease\n",
      "Get:2 http://security.ubuntu.com/ubuntu xenial-security InRelease [109 kB]\n",
      "Ign:3 https://developer.download.nvidia.com/compute/cuda/repos/ubuntu1604/x86_64  InRelease\n",
      "Ign:4 https://developer.download.nvidia.com/compute/machine-learning/repos/ubuntu1604/x86_64  InRelease\n",
      "Get:5 https://developer.download.nvidia.com/compute/cuda/repos/ubuntu1604/x86_64  Release [564 B]\n",
      "Get:6 https://developer.download.nvidia.com/compute/machine-learning/repos/ubuntu1604/x86_64  Release [564 B]\n",
      "Get:7 https://developer.download.nvidia.com/compute/cuda/repos/ubuntu1604/x86_64  Release.gpg [819 B]\n",
      "Get:8 http://archive.ubuntu.com/ubuntu xenial-updates InRelease [109 kB]       \n",
      "Get:9 https://developer.download.nvidia.com/compute/machine-learning/repos/ubuntu1604/x86_64  Release.gpg [833 B]\n",
      "Get:10 https://developer.download.nvidia.com/compute/cuda/repos/ubuntu1604/x86_64  Packages [234 kB]\n",
      "Get:11 https://developer.download.nvidia.com/compute/machine-learning/repos/ubuntu1604/x86_64  Packages [66.3 kB]\n",
      "Get:12 http://security.ubuntu.com/ubuntu xenial-security/main amd64 Packages [985 kB]\n",
      "Get:13 http://archive.ubuntu.com/ubuntu xenial-backports InRelease [107 kB]    \n",
      "Get:14 http://archive.ubuntu.com/ubuntu xenial-updates/main amd64 Packages [1363 kB]\n",
      "Get:15 http://security.ubuntu.com/ubuntu xenial-security/universe amd64 Packages [589 kB]\n",
      "Get:16 http://security.ubuntu.com/ubuntu xenial-security/multiverse amd64 Packages [6276 B]\n",
      "Get:17 http://archive.ubuntu.com/ubuntu xenial-updates/universe amd64 Packages [993 kB]\n",
      "Get:18 http://archive.ubuntu.com/ubuntu xenial-updates/multiverse amd64 Packages [19.2 kB]\n",
      "Get:19 http://archive.ubuntu.com/ubuntu xenial-backports/universe amd64 Packages [8807 B]\n",
      "Fetched 4592 kB in 27s (166 kB/s)                                              \n",
      "Reading package lists... Done\n",
      "Reading package lists... Done\n",
      "Building dependency tree       \n",
      "Reading state information... Done\n",
      "The following NEW packages will be installed:\n",
      "  wget\n",
      "0 upgraded, 1 newly installed, 0 to remove and 93 not upgraded.\n",
      "Need to get 299 kB of archives.\n",
      "After this operation, 905 kB of additional disk space will be used.\n",
      "Get:1 http://archive.ubuntu.com/ubuntu xenial-updates/main amd64 wget amd64 1.17.1-1ubuntu1.5 [299 kB]\n",
      "Fetched 299 kB in 2s (136 kB/s)\n",
      "debconf: delaying package configuration, since apt-utils is not installed\n",
      "Selecting previously unselected package wget.\n",
      "(Reading database ... 18074 files and directories currently installed.)\n",
      "Preparing to unpack .../wget_1.17.1-1ubuntu1.5_amd64.deb ...\n",
      "Unpacking wget (1.17.1-1ubuntu1.5) ...\n",
      "Setting up wget (1.17.1-1ubuntu1.5) ...\n"
     ]
    }
   ],
   "source": [
    "# если ругается на то, что нет wget\n",
    "!apt-get update\n",
    "!apt-get install wget"
   ]
  },
  {
   "cell_type": "code",
   "execution_count": 4,
   "metadata": {
    "colab": {
     "base_uri": "https://localhost:8080/",
     "height": 377
    },
    "colab_type": "code",
    "id": "ep1FB3IBW-AY",
    "outputId": "b70cb403-9774-4294-c4c0-87a33b66cf0a",
    "scrolled": true
   },
   "outputs": [
    {
     "name": "stdout",
     "output_type": "stream",
     "text": [
      "--2019-10-24 11:54:56--  https://github.com/BobaZooba/HSE-Deep-Learning-in-NLP-Course/blob/master/week_05/data/answers_subsample.csv?raw=true\n",
      "Resolving github.com (github.com)... 192.30.253.112\n",
      "Connecting to github.com (github.com)|192.30.253.112|:443... connected.\n",
      "HTTP request sent, awaiting response... 302 Found\n",
      "Location: https://github.com/BobaZooba/HSE-Deep-Learning-in-NLP-Course/raw/master/week_05/data/answers_subsample.csv [following]\n",
      "--2019-10-24 11:54:57--  https://github.com/BobaZooba/HSE-Deep-Learning-in-NLP-Course/raw/master/week_05/data/answers_subsample.csv\n",
      "Reusing existing connection to github.com:443.\n",
      "HTTP request sent, awaiting response... 302 Found\n",
      "Location: https://raw.githubusercontent.com/BobaZooba/HSE-Deep-Learning-in-NLP-Course/master/week_05/data/answers_subsample.csv [following]\n",
      "--2019-10-24 11:54:57--  https://raw.githubusercontent.com/BobaZooba/HSE-Deep-Learning-in-NLP-Course/master/week_05/data/answers_subsample.csv\n",
      "Resolving raw.githubusercontent.com (raw.githubusercontent.com)... 151.101.0.133, 151.101.64.133, 151.101.128.133, ...\n",
      "Connecting to raw.githubusercontent.com (raw.githubusercontent.com)|151.101.0.133|:443... connected.\n",
      "HTTP request sent, awaiting response... 200 OK\n",
      "Length: 28717126 (27M) [text/plain]\n",
      "Saving to: ‘data.csv’\n",
      "\n",
      "data.csv            100%[===================>]  27.39M  8.04MB/s    in 3.5s    \n",
      "\n",
      "2019-10-24 11:55:01 (7.87 MB/s) - ‘data.csv’ saved [28717126/28717126]\n",
      "\n"
     ]
    }
   ],
   "source": [
    "!wget https://github.com/BobaZooba/HSE-Deep-Learning-in-NLP-Course/blob/master/week_05/data/answers_subsample.csv?raw=true -O data.csv"
   ]
  },
  {
   "cell_type": "code",
   "execution_count": 5,
   "metadata": {
    "colab": {
     "base_uri": "https://localhost:8080/",
     "height": 68
    },
    "colab_type": "code",
    "id": "qJpFTPpsW-Ac",
    "outputId": "169c266a-1060-452d-97f0-aa2677001914"
   },
   "outputs": [
    {
     "name": "stdout",
     "output_type": "stream",
     "text": [
      "total 4458520\r\n",
      "-rw-r--r-- 1 root root     385785 Oct 24 11:52 Classification_Subsample_Mail (2).ipynb\r\n",
      "-rw-r--r-- 1 root root 4536408847 Jan 18  2019 cc.ru.300.vec\r\n",
      "-rw-r--r-- 1 root root   28717126 Oct 24 11:55 data.csv\r\n",
      "-rw-r--r-- 1 root root          0 Oct 23 10:24 onstart.log\r\n",
      "-rw-r--r-- 1 root root         75 Oct 23 10:24 onstart.sh\r\n"
     ]
    }
   ],
   "source": [
    "!ls -l"
   ]
  },
  {
   "cell_type": "code",
   "execution_count": 2,
   "metadata": {
    "colab": {},
    "colab_type": "code",
    "id": "qmzaEwy9W-Ae"
   },
   "outputs": [],
   "source": [
    "import pandas as pd"
   ]
  },
  {
   "cell_type": "code",
   "execution_count": 3,
   "metadata": {
    "colab": {},
    "colab_type": "code",
    "id": "BbDKxq4EW-Ag"
   },
   "outputs": [],
   "source": [
    "data = pd.read_csv('data.csv')"
   ]
  },
  {
   "cell_type": "code",
   "execution_count": 4,
   "metadata": {
    "colab": {
     "base_uri": "https://localhost:8080/",
     "height": 1000
    },
    "colab_type": "code",
    "id": "hcAdsbS7W-Ai",
    "outputId": "f3149f47-6897-453d-9d6d-fb24996c32a2"
   },
   "outputs": [
    {
     "data": {
      "text/html": [
       "<div>\n",
       "<style scoped>\n",
       "    .dataframe tbody tr th:only-of-type {\n",
       "        vertical-align: middle;\n",
       "    }\n",
       "\n",
       "    .dataframe tbody tr th {\n",
       "        vertical-align: top;\n",
       "    }\n",
       "\n",
       "    .dataframe thead th {\n",
       "        text-align: right;\n",
       "    }\n",
       "</style>\n",
       "<table border=\"1\" class=\"dataframe\">\n",
       "  <thead>\n",
       "    <tr style=\"text-align: right;\">\n",
       "      <th></th>\n",
       "      <th>category</th>\n",
       "      <th>text</th>\n",
       "    </tr>\n",
       "  </thead>\n",
       "  <tbody>\n",
       "    <tr>\n",
       "      <th>0</th>\n",
       "      <td>business</td>\n",
       "      <td>Могут ли в россельхозбанке дать в залог норков...</td>\n",
       "    </tr>\n",
       "    <tr>\n",
       "      <th>1</th>\n",
       "      <td>law</td>\n",
       "      <td>Может ли срочник перевестись на контракт после...</td>\n",
       "    </tr>\n",
       "    <tr>\n",
       "      <th>2</th>\n",
       "      <td>business</td>\n",
       "      <td>Продажа недвижимости по ипотеки ? ( арестованы...</td>\n",
       "    </tr>\n",
       "    <tr>\n",
       "      <th>3</th>\n",
       "      <td>business</td>\n",
       "      <td>В чем смысл криптовалюты, какая от неё выгода ...</td>\n",
       "    </tr>\n",
       "    <tr>\n",
       "      <th>4</th>\n",
       "      <td>law</td>\n",
       "      <td>часть 1 статья 158 похитил телефон</td>\n",
       "    </tr>\n",
       "    <tr>\n",
       "      <th>...</th>\n",
       "      <td>...</td>\n",
       "      <td>...</td>\n",
       "    </tr>\n",
       "    <tr>\n",
       "      <th>237774</th>\n",
       "      <td>relax</td>\n",
       "      <td>елку нарядили? =)</td>\n",
       "    </tr>\n",
       "    <tr>\n",
       "      <th>237775</th>\n",
       "      <td>law</td>\n",
       "      <td>Имеется переработка при 75% ставки, отгулы не ...</td>\n",
       "    </tr>\n",
       "    <tr>\n",
       "      <th>237776</th>\n",
       "      <td>food</td>\n",
       "      <td>Попробовала варить рис с половиной кубика для ...</td>\n",
       "    </tr>\n",
       "    <tr>\n",
       "      <th>237777</th>\n",
       "      <td>food</td>\n",
       "      <td>Почему рекоменд... Почему рекомендуют есть фру...</td>\n",
       "    </tr>\n",
       "    <tr>\n",
       "      <th>237778</th>\n",
       "      <td>business</td>\n",
       "      <td>Подскажите какие риски бывают в семье среднест...</td>\n",
       "    </tr>\n",
       "  </tbody>\n",
       "</table>\n",
       "<p>237779 rows × 2 columns</p>\n",
       "</div>"
      ],
      "text/plain": [
       "        category                                               text\n",
       "0       business  Могут ли в россельхозбанке дать в залог норков...\n",
       "1            law  Может ли срочник перевестись на контракт после...\n",
       "2       business  Продажа недвижимости по ипотеки ? ( арестованы...\n",
       "3       business  В чем смысл криптовалюты, какая от неё выгода ...\n",
       "4            law                 часть 1 статья 158 похитил телефон\n",
       "...          ...                                                ...\n",
       "237774     relax                                  елку нарядили? =)\n",
       "237775       law  Имеется переработка при 75% ставки, отгулы не ...\n",
       "237776      food  Попробовала варить рис с половиной кубика для ...\n",
       "237777      food  Почему рекоменд... Почему рекомендуют есть фру...\n",
       "237778  business  Подскажите какие риски бывают в семье среднест...\n",
       "\n",
       "[237779 rows x 2 columns]"
      ]
     },
     "execution_count": 4,
     "metadata": {},
     "output_type": "execute_result"
    }
   ],
   "source": [
    "data"
   ]
  },
  {
   "cell_type": "code",
   "execution_count": 11,
   "metadata": {
    "colab": {
     "base_uri": "https://localhost:8080/",
     "height": 119
    },
    "colab_type": "code",
    "id": "90tXLjfsW-Aj",
    "outputId": "40320337-434f-4c40-e904-da35ad87af60"
   },
   "outputs": [
    {
     "data": {
      "text/plain": [
       "law         29.793211\n",
       "relax       22.016242\n",
       "business    19.309527\n",
       "food        18.367055\n",
       "love        10.513965\n",
       "Name: category, dtype: float64"
      ]
     },
     "execution_count": 11,
     "metadata": {},
     "output_type": "execute_result"
    }
   ],
   "source": [
    "data.category.value_counts() * 100 / data.shape[0]"
   ]
  },
  {
   "cell_type": "markdown",
   "metadata": {
    "colab_type": "text",
    "id": "gfHbifWIW-Al"
   },
   "source": [
    "# Предобученные эмбеддинги\n",
    "[Источник](https://fasttext.cc/docs/en/crawl-vectors.html)  \n",
    "Вы можете взять любые word2vec подобные эмббединги. Если вы хотите использовать elmo, bert, etc сначала попробуйте с word2vec подобными эмббедингами, а потом можете перейти к более сложным моделям.  \n",
    "Ниже мы сначала скачиваем, а потом распоковываем эмбеддинги."
   ]
  },
  {
   "cell_type": "code",
   "execution_count": 12,
   "metadata": {
    "colab": {
     "base_uri": "https://localhost:8080/",
     "height": 204
    },
    "colab_type": "code",
    "id": "PVhCzM3LW-Al",
    "outputId": "7a66d99e-f4d7-4db0-bd4c-efb323d7eba6"
   },
   "outputs": [
    {
     "name": "stdout",
     "output_type": "stream",
     "text": [
      "--2019-10-23 10:30:17--  https://dl.fbaipublicfiles.com/fasttext/vectors-crawl/cc.ru.300.vec.gz\n",
      "Resolving dl.fbaipublicfiles.com (dl.fbaipublicfiles.com)... 104.20.6.166, 104.20.22.166, 2606:4700:10::6814:16a6, ...\n",
      "Connecting to dl.fbaipublicfiles.com (dl.fbaipublicfiles.com)|104.20.6.166|:443... connected.\n",
      "HTTP request sent, awaiting response... 200 OK\n",
      "Length: 1306357571 (1.2G) [binary/octet-stream]\n",
      "Saving to: ‘cc.ru.300.vec.gz’\n",
      "\n",
      "cc.ru.300.vec.gz    100%[===================>]   1.22G  9.38MB/s    in 3m 14s  \n",
      "\n",
      "2019-10-23 10:33:32 (6.42 MB/s) - ‘cc.ru.300.vec.gz’ saved [1306357571/1306357571]\n",
      "\n"
     ]
    }
   ],
   "source": [
    "!wget https://dl.fbaipublicfiles.com/fasttext/vectors-crawl/cc.ru.300.vec.gz\n",
    "!gzip -d cc.ru.300.vec.gz"
   ]
  },
  {
   "cell_type": "code",
   "execution_count": 13,
   "metadata": {
    "colab": {
     "base_uri": "https://localhost:8080/",
     "height": 85
    },
    "colab_type": "code",
    "id": "eJcT1qPZW-An",
    "outputId": "8ebb3819-2af9-4a27-ecd6-3b15f6ce4c69"
   },
   "outputs": [
    {
     "name": "stdout",
     "output_type": "stream",
     "text": [
      "total 4458352\r\n",
      "-rw-r--r-- 1 root root     215072 Oct 23 10:32 Classification_Subsample_Mail (2).ipynb\r\n",
      "-rw-r--r-- 1 root root 4536408847 Jan 18  2019 cc.ru.300.vec\r\n",
      "-rw-r--r-- 1 root root   28717126 Oct 23 10:30 data.csv\r\n",
      "-rw-r--r-- 1 root root          0 Oct 23 10:24 onstart.log\r\n",
      "-rw-r--r-- 1 root root         75 Oct 23 10:24 onstart.sh\r\n"
     ]
    }
   ],
   "source": [
    "!ls -l"
   ]
  },
  {
   "cell_type": "code",
   "execution_count": 5,
   "metadata": {
    "colab": {},
    "colab_type": "code",
    "id": "M0lwyZUFW-Ap"
   },
   "outputs": [],
   "source": [
    "from nltk.tokenize import word_tokenize, wordpunct_tokenize\n",
    "from tqdm.auto import tqdm"
   ]
  },
  {
   "cell_type": "code",
   "execution_count": 6,
   "metadata": {
    "colab": {},
    "colab_type": "code",
    "id": "QQpX51Y4W-Aq"
   },
   "outputs": [],
   "source": [
    "# потом можете добавить свою предобработку\n",
    "\n",
    "def process_text(text):\n",
    "    \n",
    "    words = wordpunct_tokenize(text.lower())\n",
    "    \n",
    "    return words"
   ]
  },
  {
   "cell_type": "code",
   "execution_count": 7,
   "metadata": {
    "colab": {
     "base_uri": "https://localhost:8080/",
     "height": 34
    },
    "colab_type": "code",
    "id": "HyI2erCDW-Ar",
    "outputId": "2ec292f2-94a7-48f2-fe2f-a8d07580c5ad"
   },
   "outputs": [
    {
     "data": {
      "application/vnd.jupyter.widget-view+json": {
       "model_id": "cb480352a3b1410b9eee338e11d619ed",
       "version_major": 2,
       "version_minor": 0
      },
      "text/plain": [
       "HBox(children=(IntProgress(value=0, max=237779), HTML(value='')))"
      ]
     },
     "metadata": {},
     "output_type": "display_data"
    },
    {
     "name": "stdout",
     "output_type": "stream",
     "text": [
      "\n"
     ]
    }
   ],
   "source": [
    "word2freq = {}\n",
    "lengths = []\n",
    "\n",
    "for text in tqdm(data.text):\n",
    "    \n",
    "    words = process_text(text)\n",
    "    \n",
    "    lengths.append(len(words))\n",
    "    \n",
    "    for word in words:\n",
    "        \n",
    "        if word in word2freq:\n",
    "            word2freq[word] += 1\n",
    "        else:\n",
    "            word2freq[word] = 1"
   ]
  },
  {
   "cell_type": "code",
   "execution_count": 8,
   "metadata": {
    "colab": {},
    "colab_type": "code",
    "id": "FGzDm0ptW-At"
   },
   "outputs": [],
   "source": [
    "import seaborn as sns\n",
    "from matplotlib import pyplot as plt"
   ]
  },
  {
   "cell_type": "code",
   "execution_count": 9,
   "metadata": {
    "colab": {
     "base_uri": "https://localhost:8080/",
     "height": 639
    },
    "colab_type": "code",
    "id": "iZBR-aYDW-Av",
    "outputId": "d1c1d297-9e97-4d0f-e377-882a8c52545f"
   },
   "outputs": [
    {
     "name": "stderr",
     "output_type": "stream",
     "text": [
      "/opt/conda/lib/python3.7/site-packages/scipy/stats/stats.py:1713: FutureWarning: Using a non-tuple sequence for multidimensional indexing is deprecated; use `arr[tuple(seq)]` instead of `arr[seq]`. In the future this will be interpreted as an array index, `arr[np.array(seq)]`, which will result either in an error or a different result.\n",
      "  return np.add.reduce(sorted[indexer] * weights, axis=axis) / sumval\n"
     ]
    },
    {
     "data": {
      "text/plain": [
       "<matplotlib.axes._subplots.AxesSubplot at 0x7ff75c8afc88>"
      ]
     },
     "execution_count": 9,
     "metadata": {},
     "output_type": "execute_result"
    },
    {
     "data": {
      "image/png": "[encoded data removed]",
      "text/plain": [
       "<Figure size 1152x720 with 1 Axes>"
      ]
     },
     "metadata": {
      "needs_background": "light"
     },
     "output_type": "display_data"
    }
   ],
   "source": [
    "plt.figure(figsize=(16, 10))\n",
    "plt.title('Распределение длин слов в текстах')\n",
    "plt.xlabel('Длина предложения')\n",
    "plt.ylabel('Доля')\n",
    "#plt.plot(lengths)\n",
    "sns.distplot(lengths)"
   ]
  },
  {
   "cell_type": "code",
   "execution_count": 19,
   "metadata": {
    "colab": {
     "base_uri": "https://localhost:8080/",
     "height": 34
    },
    "colab_type": "code",
    "id": "OBzmPqXIW-Aw",
    "outputId": "cfa81768-d68b-40e1-96b6-f0e0a83f3388"
   },
   "outputs": [
    {
     "data": {
      "text/plain": [
       "'99.66 % наших текстов входят в промежуток от 3 до 32 слов'"
      ]
     },
     "execution_count": 19,
     "metadata": {},
     "output_type": "execute_result"
    }
   ],
   "source": [
    "upper_threshold = 32\n",
    "lower_threshold = 3\n",
    "\n",
    "correct_percent = len([sent_len for sent_len in lengths \n",
    "                       if sent_len <= upper_threshold and sent_len >= lower_threshold]) * 100 / len(lengths)\n",
    "\n",
    "'{:.2f} % наших текстов входят в промежуток от {} до {} слов'.format(correct_percent, lower_threshold, upper_threshold)"
   ]
  },
  {
   "cell_type": "code",
   "execution_count": 20,
   "metadata": {
    "colab": {
     "base_uri": "https://localhost:8080/",
     "height": 34
    },
    "colab_type": "code",
    "id": "GbSer_0bW-Ay",
    "outputId": "d8fbd8f8-759c-41da-e122-5b41d99fcb67"
   },
   "outputs": [
    {
     "data": {
      "text/plain": [
       "152179"
      ]
     },
     "execution_count": 20,
     "metadata": {},
     "output_type": "execute_result"
    }
   ],
   "source": [
    "len(word2freq)"
   ]
  },
  {
   "cell_type": "code",
   "execution_count": 21,
   "metadata": {
    "colab": {
     "base_uri": "https://localhost:8080/",
     "height": 34
    },
    "colab_type": "code",
    "id": "szg6XD3EW-Az",
    "outputId": "b3466ab0-303f-4c2a-d76d-90c82f8217c2"
   },
   "outputs": [
    {
     "data": {
      "text/plain": [
       "'114332 слов, которые встречались 3 и менее раз'"
      ]
     },
     "execution_count": 21,
     "metadata": {},
     "output_type": "execute_result"
    }
   ],
   "source": [
    "'{} слов, которые встречались 3 и менее раз'.format(len([word for word in word2freq if word2freq[word] <= 3]))"
   ]
  },
  {
   "cell_type": "markdown",
   "metadata": {
    "colab_type": "text",
    "id": "bZbOg0FqW-A1"
   },
   "source": [
    "# Читаем файл с эмбеддингами\n",
    "### Этот файл с 300 числами для 2 000 000 слов и он может не влезть в память\n",
    "Поэтому прочитаем только те слова, которые мы знаем"
   ]
  },
  {
   "cell_type": "code",
   "execution_count": 10,
   "metadata": {
    "colab": {},
    "colab_type": "code",
    "id": "T1Yx_qr-W-A2"
   },
   "outputs": [],
   "source": [
    "import numpy as np"
   ]
  },
  {
   "cell_type": "code",
   "execution_count": 11,
   "metadata": {
    "colab": {
     "base_uri": "https://localhost:8080/",
     "height": 34
    },
    "colab_type": "code",
    "id": "BLEgfnaWW-A4",
    "outputId": "7cb7b30d-c616-4591-e2e6-7afc06854b75"
   },
   "outputs": [
    {
     "data": {
      "application/vnd.jupyter.widget-view+json": {
       "model_id": "f99c5ec4bfee4aaaa2041541b7a1a0a0",
       "version_major": 2,
       "version_minor": 0
      },
      "text/plain": [
       "HBox(children=(IntProgress(value=0, description='Read word2vec', max=2000000, style=ProgressStyle(description_…"
      ]
     },
     "metadata": {},
     "output_type": "display_data"
    },
    {
     "name": "stdout",
     "output_type": "stream",
     "text": [
      "\n"
     ]
    }
   ],
   "source": [
    "word2index = {'PAD': 0}\n",
    "vectors = []\n",
    "    \n",
    "word2vec_file = open('cc.ru.300.vec')\n",
    "    \n",
    "n_words, embedding_dim = word2vec_file.readline().split()\n",
    "n_words, embedding_dim = int(n_words), int(embedding_dim)\n",
    "\n",
    "# Zero vector for PAD\n",
    "vectors.append(np.zeros((1, embedding_dim)))\n",
    "\n",
    "progress_bar = tqdm(desc='Read word2vec', total=n_words)\n",
    "\n",
    "while True:\n",
    "\n",
    "    line = word2vec_file.readline().strip()\n",
    "\n",
    "    if not line:\n",
    "        break\n",
    "        \n",
    "    current_parts = line.split()\n",
    "\n",
    "    current_word = ' '.join(current_parts[:-embedding_dim])\n",
    "\n",
    "    if current_word in word2freq:\n",
    "\n",
    "        word2index[current_word] = len(word2index)\n",
    "\n",
    "        current_vectors = current_parts[-embedding_dim:]\n",
    "        current_vectors = np.array(list(map(float, current_vectors)))\n",
    "        current_vectors = np.expand_dims(current_vectors, 0)\n",
    "\n",
    "        vectors.append(current_vectors)\n",
    "\n",
    "    progress_bar.update(1)\n",
    "\n",
    "progress_bar.close()\n",
    "\n",
    "word2vec_file.close()\n",
    "\n",
    "vectors = np.concatenate(vectors)"
   ]
  },
  {
   "cell_type": "code",
   "execution_count": 12,
   "metadata": {
    "colab": {
     "base_uri": "https://localhost:8080/",
     "height": 34
    },
    "colab_type": "code",
    "id": "AYJMzgpnW-A7",
    "outputId": "cfd0f8d3-7926-450a-e94e-f3e5701281e1"
   },
   "outputs": [
    {
     "data": {
      "text/plain": [
       "117619"
      ]
     },
     "execution_count": 12,
     "metadata": {},
     "output_type": "execute_result"
    }
   ],
   "source": [
    "len(word2index)"
   ]
  },
  {
   "cell_type": "code",
   "execution_count": 13,
   "metadata": {
    "colab": {
     "base_uri": "https://localhost:8080/",
     "height": 187
    },
    "colab_type": "code",
    "id": "KE06fafiW-A8",
    "outputId": "f059b8c4-19bd-48fb-a369-810c8c26f602"
   },
   "outputs": [
    {
     "name": "stdout",
     "output_type": "stream",
     "text": [
      "Мы не знаем 2.50 % слов в датасете\n",
      "Количество неизвестных слов 34561 из 152179, то есть 22.71 % уникальных слов в словаре\n",
      "В среднем каждое встречается 1.98 раз\n",
      "\n",
      "Топ 5 невошедших слов:\n",
      "??? с количеством вхождениий - 3641\n",
      "?? с количеством вхождениий - 2448\n",
      "!!! с количеством вхождениий - 2214\n",
      "?) с количеством вхождениий - 2069\n",
      "\"? с количеством вхождениий - 1429\n"
     ]
    }
   ],
   "source": [
    "unk_words = [word for word in word2freq if word not in word2index]\n",
    "unk_counts = [word2freq[word] for word in unk_words]\n",
    "n_unk = sum(unk_counts) * 100 / sum(list(word2freq.values()))\n",
    "\n",
    "sub_sample_unk_words = {word: word2freq[word] for word in unk_words}\n",
    "sorted_unk_words = list(sorted(sub_sample_unk_words, key=lambda x: sub_sample_unk_words[x], reverse=True))\n",
    "\n",
    "print('Мы не знаем {:.2f} % слов в датасете'.format(n_unk))\n",
    "print('Количество неизвестных слов {} из {}, то есть {:.2f} % уникальных слов в словаре'.format(\n",
    "    len(unk_words), len(word2freq), len(unk_words) * 100 / len(word2freq)))\n",
    "print('В среднем каждое встречается {:.2f} раз'.format(np.mean(unk_counts)))\n",
    "print()\n",
    "print('Топ 5 невошедших слов:')\n",
    "\n",
    "for i in range(5):\n",
    "    print(sorted_unk_words[i], 'с количеством вхождениий -', word2freq[sorted_unk_words[i]])"
   ]
  },
  {
   "cell_type": "markdown",
   "metadata": {
    "colab_type": "text",
    "id": "GFPNApUjW-A9"
   },
   "source": [
    "# Потеря 2.5 % слов в датасете\n",
    "Эта ситуация не то, чтобы сильно плохая, в учебных целях нормально, к тому же в среднем они редко встречаются. Вы можете поиграть с предобработкой, но советую не заигрываться. Оценивается другое."
   ]
  },
  {
   "cell_type": "code",
   "execution_count": 14,
   "metadata": {
    "colab": {},
    "colab_type": "code",
    "id": "_fo1fB6JW-A-"
   },
   "outputs": [],
   "source": [
    "import torch"
   ]
  },
  {
   "cell_type": "markdown",
   "metadata": {
    "colab_type": "text",
    "id": "pEKAjCg3W-BA"
   },
   "source": [
    "- 128 - размер батча\n",
    "- 64 - количество слов\n",
    "- 1024 - эмбеддинг слова"
   ]
  },
  {
   "cell_type": "code",
   "execution_count": 27,
   "metadata": {
    "colab": {},
    "colab_type": "code",
    "id": "D19pDyQBW-BA"
   },
   "outputs": [],
   "source": [
    "x = torch.rand(128, 64, 1024)"
   ]
  },
  {
   "cell_type": "code",
   "execution_count": 28,
   "metadata": {
    "colab": {},
    "colab_type": "code",
    "id": "Yxsxr7edW-BB"
   },
   "outputs": [],
   "source": [
    "lstm = torch.nn.LSTM(1024, 512, batch_first=True)"
   ]
  },
  {
   "cell_type": "code",
   "execution_count": 29,
   "metadata": {
    "colab": {
     "base_uri": "https://localhost:8080/",
     "height": 34
    },
    "colab_type": "code",
    "id": "TZy0lKr2W-BC",
    "outputId": "499874de-11e4-4e54-c1ac-d56ce8b43c4d"
   },
   "outputs": [
    {
     "name": "stdout",
     "output_type": "stream",
     "text": [
      "610 ms ± 145 ms per loop (mean ± std. dev. of 7 runs, 1 loop each)\n"
     ]
    }
   ],
   "source": [
    "%%timeit\n",
    "\n",
    "pred = lstm(x)"
   ]
  },
  {
   "cell_type": "markdown",
   "metadata": {
    "colab_type": "text",
    "id": "s611e34SW-BE"
   },
   "source": [
    "# А что GPU?"
   ]
  },
  {
   "cell_type": "code",
   "execution_count": 30,
   "metadata": {
    "colab": {
     "base_uri": "https://localhost:8080/",
     "height": 51
    },
    "colab_type": "code",
    "id": "xjFlWdgtW-BE",
    "outputId": "51af91be-1965-4a7c-c323-278c4b24e15d"
   },
   "outputs": [
    {
     "name": "stdout",
     "output_type": "stream",
     "text": [
      "Доступна ли видеокарта: True\n",
      "Если недоступна, поменяйте runtime, если в колабе\n"
     ]
    }
   ],
   "source": [
    "print('Доступна ли видеокарта:', torch.cuda.is_available())\n",
    "print('Если недоступна, поменяйте runtime, если в колабе')"
   ]
  },
  {
   "cell_type": "code",
   "execution_count": 31,
   "metadata": {
    "colab": {},
    "colab_type": "code",
    "id": "jaMMD5CDW-BG"
   },
   "outputs": [],
   "source": [
    "# универсальных способ задать device\n",
    "device = torch.device('cuda') if torch.cuda.is_available() else torch.device('cpu')\n",
    "# если доступна gpu, то давайте ее использовать, но в этом задании должны использовать"
   ]
  },
  {
   "cell_type": "code",
   "execution_count": 32,
   "metadata": {
    "colab": {},
    "colab_type": "code",
    "id": "GeQCiSYdW-BH"
   },
   "outputs": [],
   "source": [
    "# перенесли x на gpu\n",
    "x_gpu = x.to(device)"
   ]
  },
  {
   "cell_type": "code",
   "execution_count": 33,
   "metadata": {
    "colab": {},
    "colab_type": "code",
    "id": "S_qUdMcbW-BJ"
   },
   "outputs": [],
   "source": [
    "# зададим lstm на gpu\n",
    "lstm_gpu = torch.nn.LSTM(1024, 512, batch_first=True)\n",
    "lstm_gpu = lstm_gpu.to(device)"
   ]
  },
  {
   "cell_type": "code",
   "execution_count": 34,
   "metadata": {
    "colab": {
     "base_uri": "https://localhost:8080/",
     "height": 34
    },
    "colab_type": "code",
    "id": "hSUQmRgtW-BK",
    "outputId": "cb143cb6-333b-4b4a-bea9-5b0b96d7f675"
   },
   "outputs": [
    {
     "name": "stdout",
     "output_type": "stream",
     "text": [
      "41.1 ms ± 22.8 µs per loop (mean ± std. dev. of 7 runs, 100 loops each)\n"
     ]
    }
   ],
   "source": [
    "%%timeit\n",
    "\n",
    "pred = lstm_gpu(x_gpu)"
   ]
  },
  {
   "cell_type": "markdown",
   "metadata": {
    "colab_type": "text",
    "id": "gPvqNWkQW-BM"
   },
   "source": [
    "# У меня на 1070 TI скорость уменьшилась с 381мс до 41мс, то есть в 9.29 раз"
   ]
  },
  {
   "cell_type": "code",
   "execution_count": 0,
   "metadata": {
    "colab": {},
    "colab_type": "code",
    "id": "FaPKGO5aW-BN"
   },
   "outputs": [],
   "source": [
    "# если у нас модель на гпу, а то, что мы туда подаем нет, то работать не будет\n",
    "# справедлива и обратная ситуация\n",
    "\n",
    "# выскочит ошибка\n",
    "# посмотрите на нее, возможно, вы еще встретитесь\n",
    "# pred = lstm_gpu(x)"
   ]
  },
  {
   "cell_type": "markdown",
   "metadata": {
    "colab_type": "text",
    "id": "9NX5HHDOW-BO"
   },
   "source": [
    "# Важные и не очень интуитивные моменты про LSTM и CNN в торче"
   ]
  },
  {
   "cell_type": "markdown",
   "metadata": {
    "colab_type": "text",
    "id": "zKr22rklW-BP"
   },
   "source": [
    "По умолчанию LSTM принимает данные с такой размерностью:\n",
    "```python\n",
    "(seq_len, batch, input_size)\n",
    "```\n",
    "Сделано это с целью оптимизации на более низком уровне.  \n",
    "Мы оперируем такими объектами:\n",
    "```python\n",
    "(batch, seq_len, input_size)\n",
    "```\n",
    "Чтобы LSTM у нас заработала правильно, мы можем либо передать параметр ```batch_first=True``` во время инициализации слоя,\n",
    "либо транспонировать (поменять) первую и вторую размерность у нашего x перед подачей в слой.  \n",
    "[Подробнее про LSTM](https://pytorch.org/docs/stable/nn.html#lstm)"
   ]
  },
  {
   "cell_type": "markdown",
   "metadata": {
    "colab_type": "text",
    "id": "Bny8SvCgW-BQ"
   },
   "source": [
    "- 128 - размер батча\n",
    "- 64 - количество слов\n",
    "- 1024 - эмбеддинг слова"
   ]
  },
  {
   "cell_type": "code",
   "execution_count": 35,
   "metadata": {
    "colab": {},
    "colab_type": "code",
    "id": "vc-bLok2W-BQ"
   },
   "outputs": [],
   "source": [
    "# первый способ\n",
    "lstm = torch.nn.LSTM(1024, 512, batch_first=True)\n",
    "\n",
    "pred, mem = lstm(x)"
   ]
  },
  {
   "cell_type": "code",
   "execution_count": 36,
   "metadata": {
    "colab": {
     "base_uri": "https://localhost:8080/",
     "height": 34
    },
    "colab_type": "code",
    "id": "OHpit-1tW-BR",
    "outputId": "dc8d2718-835a-4328-ec8f-e838f62ac575"
   },
   "outputs": [
    {
     "data": {
      "text/plain": [
       "torch.Size([128, 64, 512])"
      ]
     },
     "execution_count": 36,
     "metadata": {},
     "output_type": "execute_result"
    }
   ],
   "source": [
    "pred.shape"
   ]
  },
  {
   "cell_type": "code",
   "execution_count": 37,
   "metadata": {
    "colab": {},
    "colab_type": "code",
    "id": "ru_WzGSJW-BS"
   },
   "outputs": [],
   "source": [
    "lstm = torch.nn.LSTM(1024, 512)\n",
    "\n",
    "# меняем размерность batch и seq_len местами\n",
    "x_transposed = x.transpose(0, 1)\n",
    "pred_transposed, mem = lstm(x_transposed)"
   ]
  },
  {
   "cell_type": "code",
   "execution_count": 38,
   "metadata": {
    "colab": {
     "base_uri": "https://localhost:8080/",
     "height": 34
    },
    "colab_type": "code",
    "id": "NHdBavTWW-BT",
    "outputId": "27c291d2-b563-436b-9599-92107496bf58"
   },
   "outputs": [
    {
     "data": {
      "text/plain": [
       "torch.Size([64, 128, 512])"
      ]
     },
     "execution_count": 38,
     "metadata": {},
     "output_type": "execute_result"
    }
   ],
   "source": [
    "# у нас все еще осталась размерность (seq_len, batch, input_size)\n",
    "pred_transposed.shape"
   ]
  },
  {
   "cell_type": "code",
   "execution_count": 39,
   "metadata": {
    "colab": {
     "base_uri": "https://localhost:8080/",
     "height": 34
    },
    "colab_type": "code",
    "id": "Rcxv55j7W-BV",
    "outputId": "58a43885-1dea-4e5b-b8fd-9f119b97edd3"
   },
   "outputs": [
    {
     "data": {
      "text/plain": [
       "torch.Size([128, 64, 512])"
      ]
     },
     "execution_count": 39,
     "metadata": {},
     "output_type": "execute_result"
    }
   ],
   "source": [
    "# просто транспонируем еще раз\n",
    "pred = pred_transposed.transpose(0, 1)\n",
    "pred.shape"
   ]
  },
  {
   "cell_type": "markdown",
   "metadata": {
    "colab_type": "text",
    "id": "PmJt6cqkW-BW"
   },
   "source": [
    "## Conv1d & MaxPool1d\n",
    "Примерно такая же ситуация происходит со сверточными слоями и пулингами.  \n",
    "1d реализация как раз для текстов, в ней матрица-фильтр ходит только по одной размерности.  \n",
    "[Подробнее про CNN](https://pytorch.org/docs/stable/nn.html#conv1d)  \n",
    "[Подробнее про пулинг](https://pytorch.org/docs/stable/nn.html#maxpool1d)  \n",
    "Ожидается такая размерность:\n",
    "```python\n",
    "(batch, input_size, seq_len)\n",
    "```\n",
    "Мы все еще хоти подавать такую размерность:\n",
    "```python\n",
    "(batch, seq_len, input_size)\n",
    "```\n",
    "В случае со свертками и пулингами у нас есть вариант только транспонировать x перед подачей и транспонировать полученный результат. Обратите внимание, что транспонируем мы первую и вторую размерность (индексация с нуля)."
   ]
  },
  {
   "cell_type": "code",
   "execution_count": 40,
   "metadata": {
    "colab": {
     "base_uri": "https://localhost:8080/",
     "height": 34
    },
    "colab_type": "code",
    "id": "TyM8Xl24W-BX",
    "outputId": "57fe87f7-5583-4f65-d17a-b730146c1ce5"
   },
   "outputs": [
    {
     "data": {
      "text/plain": [
       "torch.Size([128, 64, 1024])"
      ]
     },
     "execution_count": 40,
     "metadata": {},
     "output_type": "execute_result"
    }
   ],
   "source": [
    "x.shape"
   ]
  },
  {
   "cell_type": "markdown",
   "metadata": {
    "colab_type": "text",
    "id": "grPNMjEZW-BY"
   },
   "source": [
    "- 128 - размер батча\n",
    "- 64 - количество слов\n",
    "- 1024 - эмбеддинг слова"
   ]
  },
  {
   "cell_type": "code",
   "execution_count": 41,
   "metadata": {
    "colab": {},
    "colab_type": "code",
    "id": "btJ-ApiOW-BY"
   },
   "outputs": [],
   "source": [
    "# in_channels - размер входных эмбеддингов\n",
    "# out_channels - количество/какой размер эмбеддингов мы хотим получить\n",
    "# kernel_size - размер окна/н-граммы\n",
    "cnn = torch.nn.Conv1d(in_channels=1024, out_channels=512, kernel_size=3)"
   ]
  },
  {
   "cell_type": "code",
   "execution_count": 42,
   "metadata": {
    "colab": {},
    "colab_type": "code",
    "id": "QIYff7YyW-Bb"
   },
   "outputs": [],
   "source": [
    "# выпадет ошибка, посмотрите какая\n",
    "# pred = cnn(x)"
   ]
  },
  {
   "cell_type": "code",
   "execution_count": 43,
   "metadata": {
    "colab": {
     "base_uri": "https://localhost:8080/",
     "height": 34
    },
    "colab_type": "code",
    "id": "7tVn6YKLW-Bd",
    "outputId": "02e8b56c-7d82-4bc4-e2ef-37bb56ab9d23"
   },
   "outputs": [
    {
     "data": {
      "text/plain": [
       "torch.Size([128, 1024, 64])"
      ]
     },
     "execution_count": 43,
     "metadata": {},
     "output_type": "execute_result"
    }
   ],
   "source": [
    "x_transposed = x.transpose(1, 2)\n",
    "x_transposed.shape\n",
    "# перевели в (batch, input_size, seq_len)"
   ]
  },
  {
   "cell_type": "code",
   "execution_count": 44,
   "metadata": {
    "colab": {
     "base_uri": "https://localhost:8080/",
     "height": 34
    },
    "colab_type": "code",
    "id": "2N4w6-iWW-Be",
    "outputId": "99dcaa8f-b3e5-40c9-9030-a18a9d99b3c8"
   },
   "outputs": [
    {
     "data": {
      "text/plain": [
       "torch.Size([128, 512, 62])"
      ]
     },
     "execution_count": 44,
     "metadata": {},
     "output_type": "execute_result"
    }
   ],
   "source": [
    "pred_transposed = cnn(x_transposed)\n",
    "pred_transposed.shape\n",
    "# осталась разрмерность (batch, output_size, seq_len)"
   ]
  },
  {
   "cell_type": "code",
   "execution_count": 45,
   "metadata": {
    "colab": {
     "base_uri": "https://localhost:8080/",
     "height": 34
    },
    "colab_type": "code",
    "id": "7-C3_phaW-Bf",
    "outputId": "55736556-028b-46f6-e789-2976f69335b9"
   },
   "outputs": [
    {
     "data": {
      "text/plain": [
       "torch.Size([128, 62, 512])"
      ]
     },
     "execution_count": 45,
     "metadata": {},
     "output_type": "execute_result"
    }
   ],
   "source": [
    "# переведем обратно в (batch, seq_len, input_size)\n",
    "pred = pred_transposed.transpose(1, 2)\n",
    "pred.shape"
   ]
  },
  {
   "cell_type": "markdown",
   "metadata": {
    "colab_type": "text",
    "id": "kzxDpueLW-Bh"
   },
   "source": [
    "# Еще важный момент про LSTM\n",
    "\n",
    "The input can also be a packed variable length sequence. See [torch.nn.utils.rnn.pack_padded_sequence()](https://pytorch.org/docs/stable/nn.html#torch.nn.utils.rnn.pack_padded_sequence) or [torch.nn.utils.rnn.pack_sequence()](https://pytorch.org/docs/stable/nn.html#torch.nn.utils.rnn.pack_sequence) for details.\n",
    "\n",
    "Это внутренняя конструкция торча, которая позволяет не читать токен ```PAD```, но все еще работать с батчами. То есть внутри батча мы можем передать лстмке, что у нас данные переменной длины. Не забудьте что на выход отдается [torch.nn.utils.rnn.PackedSequence](https://pytorch.org/docs/stable/nn.html#torch.nn.utils.rnn.PackedSequence)."
   ]
  },
  {
   "cell_type": "markdown",
   "metadata": {
    "colab_type": "text",
    "id": "stBQ3yhqW-Bi"
   },
   "source": [
    "# Подготовим данные в DataLoader"
   ]
  },
  {
   "cell_type": "code",
   "execution_count": 15,
   "metadata": {
    "colab": {},
    "colab_type": "code",
    "id": "vPX_m5M4W-Bi"
   },
   "outputs": [],
   "source": [
    "from torch.utils.data import Dataset, DataLoader"
   ]
  },
  {
   "cell_type": "code",
   "execution_count": 16,
   "metadata": {
    "colab": {
     "base_uri": "https://localhost:8080/",
     "height": 34
    },
    "colab_type": "code",
    "id": "hV76BdN0W-Bj",
    "outputId": "28085edc-d02b-405c-c30a-e49b15973d02"
   },
   "outputs": [
    {
     "data": {
      "text/plain": [
       "False"
      ]
     },
     "execution_count": 16,
     "metadata": {},
     "output_type": "execute_result"
    }
   ],
   "source": [
    "'UNK' in word2index"
   ]
  },
  {
   "cell_type": "code",
   "execution_count": 17,
   "metadata": {
    "colab": {
     "base_uri": "https://localhost:8080/",
     "height": 204
    },
    "colab_type": "code",
    "id": "INB_dPAnW-Bk",
    "outputId": "085cf559-3176-408d-a466-886434f88256"
   },
   "outputs": [
    {
     "data": {
      "text/html": [
       "<div>\n",
       "<style scoped>\n",
       "    .dataframe tbody tr th:only-of-type {\n",
       "        vertical-align: middle;\n",
       "    }\n",
       "\n",
       "    .dataframe tbody tr th {\n",
       "        vertical-align: top;\n",
       "    }\n",
       "\n",
       "    .dataframe thead th {\n",
       "        text-align: right;\n",
       "    }\n",
       "</style>\n",
       "<table border=\"1\" class=\"dataframe\">\n",
       "  <thead>\n",
       "    <tr style=\"text-align: right;\">\n",
       "      <th></th>\n",
       "      <th>category</th>\n",
       "      <th>text</th>\n",
       "    </tr>\n",
       "  </thead>\n",
       "  <tbody>\n",
       "    <tr>\n",
       "      <th>0</th>\n",
       "      <td>business</td>\n",
       "      <td>Могут ли в россельхозбанке дать в залог норков...</td>\n",
       "    </tr>\n",
       "    <tr>\n",
       "      <th>1</th>\n",
       "      <td>law</td>\n",
       "      <td>Может ли срочник перевестись на контракт после...</td>\n",
       "    </tr>\n",
       "    <tr>\n",
       "      <th>2</th>\n",
       "      <td>business</td>\n",
       "      <td>Продажа недвижимости по ипотеки ? ( арестованы...</td>\n",
       "    </tr>\n",
       "    <tr>\n",
       "      <th>3</th>\n",
       "      <td>business</td>\n",
       "      <td>В чем смысл криптовалюты, какая от неё выгода ...</td>\n",
       "    </tr>\n",
       "    <tr>\n",
       "      <th>4</th>\n",
       "      <td>law</td>\n",
       "      <td>часть 1 статья 158 похитил телефон</td>\n",
       "    </tr>\n",
       "  </tbody>\n",
       "</table>\n",
       "</div>"
      ],
      "text/plain": [
       "   category                                               text\n",
       "0  business  Могут ли в россельхозбанке дать в залог норков...\n",
       "1       law  Может ли срочник перевестись на контракт после...\n",
       "2  business  Продажа недвижимости по ипотеки ? ( арестованы...\n",
       "3  business  В чем смысл криптовалюты, какая от неё выгода ...\n",
       "4       law                 часть 1 статья 158 похитил телефон"
      ]
     },
     "execution_count": 17,
     "metadata": {},
     "output_type": "execute_result"
    }
   ],
   "source": [
    "data.head()"
   ]
  },
  {
   "cell_type": "markdown",
   "metadata": {
    "colab_type": "text",
    "id": "1qv1mKAeW-Bl"
   },
   "source": [
    "# Замапим категории в индексы"
   ]
  },
  {
   "cell_type": "code",
   "execution_count": 18,
   "metadata": {
    "colab": {},
    "colab_type": "code",
    "id": "iHeFzZe1W-Bl"
   },
   "outputs": [],
   "source": [
    "cat_mapper = {cat: n for n, cat in enumerate(data.category.unique())}"
   ]
  },
  {
   "cell_type": "code",
   "execution_count": 19,
   "metadata": {
    "colab": {
     "base_uri": "https://localhost:8080/",
     "height": 34
    },
    "colab_type": "code",
    "id": "X3x9QhXYW-Bn",
    "outputId": "1c6f1001-f791-4f7e-f89f-105a6309d980"
   },
   "outputs": [
    {
     "data": {
      "text/plain": [
       "{'business': 0, 'law': 1, 'love': 2, 'relax': 3, 'food': 4}"
      ]
     },
     "execution_count": 19,
     "metadata": {},
     "output_type": "execute_result"
    }
   ],
   "source": [
    "cat_mapper"
   ]
  },
  {
   "cell_type": "code",
   "execution_count": 20,
   "metadata": {
    "colab": {},
    "colab_type": "code",
    "id": "ef--8SWbW-Bo"
   },
   "outputs": [],
   "source": [
    "data.category = data.category.map(cat_mapper)"
   ]
  },
  {
   "cell_type": "code",
   "execution_count": 21,
   "metadata": {
    "colab": {
     "base_uri": "https://localhost:8080/",
     "height": 204
    },
    "colab_type": "code",
    "id": "SShfAoFHQTN4",
    "outputId": "ae92b999-37d0-4c86-aa2c-9528e0ddbac2"
   },
   "outputs": [
    {
     "data": {
      "text/html": [
       "<div>\n",
       "<style scoped>\n",
       "    .dataframe tbody tr th:only-of-type {\n",
       "        vertical-align: middle;\n",
       "    }\n",
       "\n",
       "    .dataframe tbody tr th {\n",
       "        vertical-align: top;\n",
       "    }\n",
       "\n",
       "    .dataframe thead th {\n",
       "        text-align: right;\n",
       "    }\n",
       "</style>\n",
       "<table border=\"1\" class=\"dataframe\">\n",
       "  <thead>\n",
       "    <tr style=\"text-align: right;\">\n",
       "      <th></th>\n",
       "      <th>category</th>\n",
       "      <th>text</th>\n",
       "    </tr>\n",
       "  </thead>\n",
       "  <tbody>\n",
       "    <tr>\n",
       "      <th>0</th>\n",
       "      <td>0</td>\n",
       "      <td>Могут ли в россельхозбанке дать в залог норков...</td>\n",
       "    </tr>\n",
       "    <tr>\n",
       "      <th>1</th>\n",
       "      <td>1</td>\n",
       "      <td>Может ли срочник перевестись на контракт после...</td>\n",
       "    </tr>\n",
       "    <tr>\n",
       "      <th>2</th>\n",
       "      <td>0</td>\n",
       "      <td>Продажа недвижимости по ипотеки ? ( арестованы...</td>\n",
       "    </tr>\n",
       "    <tr>\n",
       "      <th>3</th>\n",
       "      <td>0</td>\n",
       "      <td>В чем смысл криптовалюты, какая от неё выгода ...</td>\n",
       "    </tr>\n",
       "    <tr>\n",
       "      <th>4</th>\n",
       "      <td>1</td>\n",
       "      <td>часть 1 статья 158 похитил телефон</td>\n",
       "    </tr>\n",
       "  </tbody>\n",
       "</table>\n",
       "</div>"
      ],
      "text/plain": [
       "   category                                               text\n",
       "0         0  Могут ли в россельхозбанке дать в залог норков...\n",
       "1         1  Может ли срочник перевестись на контракт после...\n",
       "2         0  Продажа недвижимости по ипотеки ? ( арестованы...\n",
       "3         0  В чем смысл криптовалюты, какая от неё выгода ...\n",
       "4         1                 часть 1 статья 158 похитил телефон"
      ]
     },
     "execution_count": 21,
     "metadata": {},
     "output_type": "execute_result"
    }
   ],
   "source": [
    "data.head()"
   ]
  },
  {
   "cell_type": "markdown",
   "metadata": {
    "colab_type": "text",
    "id": "vc48ALg_W-Bp"
   },
   "source": [
    "# Читалка данных"
   ]
  },
  {
   "cell_type": "markdown",
   "metadata": {
    "colab_type": "text",
    "id": "EiFGhBHWfXGO"
   },
   "source": [
    "## Что происходит ниже\n",
    "1. Мы задаем x_data, y_data (таргеты), word2index (маппер из слова в индекс слова), sequence_length (максимальная длина последовательности, если больше, ограничить ею), pad_token (токен паддинга и задаем его индекс pad_index).\n",
    "1. Загружаем данные:\n",
    "    1. Проходимся по датасету\n",
    "    1. Предобрабатываем каждый текст в датасете\n",
    "    1. Индексируем его\n",
    "1. Когда нам нужно достать пример из датасета мы берем индексированный ```x``` и соответствующий этому индексу ```y```, наш ```x``` также паддим (или ограничиваем длину) и переводим в ```torch.Tensor(x).long()```. Для ```y``` этого делать не потребуется, в dataloader'е таргеты преобразуются в тензор сами.\n",
    "    \n",
    "## Что нужно сделать здесь\n",
    "1. Дописать индексатор текста\n",
    "1. Дописать паддинг текста\n",
    "1. __*Опционально:*__ добавить что-то в предобработку"
   ]
  },
  {
   "cell_type": "code",
   "execution_count": 22,
   "metadata": {
    "colab": {},
    "colab_type": "code",
    "id": "ZkX8SC_sW-Bp"
   },
   "outputs": [],
   "source": [
    "class WordData(Dataset):\n",
    "    \n",
    "    def __init__(self, x_data, y_data, word2index, sequence_length=32, pad_token='PAD', verbose=True):\n",
    "        \n",
    "        super().__init__()\n",
    "        \n",
    "        self.x_data = []\n",
    "        self.y_data = y_data\n",
    "        \n",
    "        self.word2index = word2index\n",
    "        self.sequence_length = sequence_length\n",
    "        \n",
    "        self.pad_token = pad_token\n",
    "        self.pad_index = self.word2index[self.pad_token]\n",
    "        \n",
    "        self.load(x_data, verbose=verbose)\n",
    "        \n",
    "    @staticmethod\n",
    "    def process_text(text):\n",
    "        \n",
    "        # Место для вашей предобработки\n",
    "    \n",
    "        words = wordpunct_tokenize(text.lower())\n",
    "\n",
    "        return words\n",
    "        \n",
    "    def load(self, data, verbose=True):\n",
    "        \n",
    "        data_iterator = tqdm(data, desc='Loading data', disable=not verbose)\n",
    "        \n",
    "        for text in data_iterator:\n",
    "            \n",
    "            words = self.process_text(text)\n",
    "            \n",
    "            indexed_words = self.indexing(words)\n",
    "            \n",
    "            self.x_data.append(indexed_words)\n",
    "    \n",
    "    def indexing(self, tokenized_text):\n",
    "\n",
    "        # здесь мы не используем токен UNK, потому что мы мы его специально не учили\n",
    "        # становится непонятно какой же эмбеддинг присвоить неизвестному слову,\n",
    "        # поэтому просто выбрасываем наши неизветсные слова\n",
    "        \n",
    "        ### CODE ###\n",
    "        text_indices = []\n",
    "        for word in tokenized_text:\n",
    "            if word in self.word2index:\n",
    "                text_indices.append(self.word2index[word])\n",
    "            \n",
    "        return text_indices\n",
    "            \n",
    "    \n",
    "    def padding(self, sequence):\n",
    "        \n",
    "        # Ограничить длину self.sequence_length\n",
    "        # если длина меньше максимально - западить\n",
    "        \n",
    "        ### CODE ###\n",
    "        if len(sequence) > self.sequence_length:\n",
    "            sequence = sequence[: self.sequence_length]\n",
    "        elif len(sequence) < self.sequence_length:\n",
    "            sequence += [self.pad_index for i in range(self.sequence_length-len(sequence))]\n",
    "        return sequence\n",
    "    \n",
    "    def __len__(self):\n",
    "        \n",
    "        return len(self.x_data)\n",
    "    \n",
    "    def __getitem__(self, idx):\n",
    "        \n",
    "        x = self.x_data[idx]\n",
    "        x = self.padding(x)\n",
    "        x = torch.Tensor(x).long()\n",
    "        \n",
    "        y = self.y_data[idx]\n",
    "        \n",
    "        return x, y"
   ]
  },
  {
   "cell_type": "code",
   "execution_count": 23,
   "metadata": {
    "colab": {
     "base_uri": "https://localhost:8080/",
     "height": 34
    },
    "colab_type": "code",
    "id": "AbKaEWUWW-Bq",
    "outputId": "9323ac94-b640-40db-a50d-7720c09f007e",
    "scrolled": false
   },
   "outputs": [
    {
     "data": {
      "application/vnd.jupyter.widget-view+json": {
       "model_id": "7bfe92de5c0a4893b245b1959d4ae846",
       "version_major": 2,
       "version_minor": 0
      },
      "text/plain": [
       "HBox(children=(IntProgress(value=0, description='Loading data', max=237779, style=ProgressStyle(description_wi…"
      ]
     },
     "metadata": {},
     "output_type": "display_data"
    },
    {
     "name": "stdout",
     "output_type": "stream",
     "text": [
      "\n"
     ]
    }
   ],
   "source": [
    "dataset = WordData(data.text, data.category, word2index)"
   ]
  },
  {
   "cell_type": "code",
   "execution_count": 24,
   "metadata": {
    "colab": {},
    "colab_type": "code",
    "id": "Lnc2nD8gW-Br"
   },
   "outputs": [],
   "source": [
    "data_loader = DataLoader(dataset, batch_size=64)"
   ]
  },
  {
   "cell_type": "code",
   "execution_count": 25,
   "metadata": {
    "colab": {},
    "colab_type": "code",
    "id": "dGeftxdgW-Br"
   },
   "outputs": [],
   "source": [
    "for x, y in data_loader:\n",
    "    break"
   ]
  },
  {
   "cell_type": "code",
   "execution_count": 26,
   "metadata": {
    "colab": {
     "base_uri": "https://localhost:8080/",
     "height": 136
    },
    "colab_type": "code",
    "id": "nNkGQffBW-Bs",
    "outputId": "6f0606fa-9bac-48a0-992d-d6289e726690"
   },
   "outputs": [
    {
     "data": {
      "text/plain": [
       "tensor([[  153,   137,     4,  ...,     0,     0,     0],\n",
       "        [   65,   137, 97522,  ...,     0,     0,     0],\n",
       "        [ 1584,   955,    17,  ...,     0,     0,     0],\n",
       "        ...,\n",
       "        [75752,   137,  8345,  ...,     0,     0,     0],\n",
       "        [33902,  1327,     0,  ...,     0,     0,     0],\n",
       "        [  172,  5175,  1015,  ...,     0,     0,     0]])"
      ]
     },
     "execution_count": 26,
     "metadata": {},
     "output_type": "execute_result"
    }
   ],
   "source": [
    "x"
   ]
  },
  {
   "cell_type": "code",
   "execution_count": 27,
   "metadata": {
    "colab": {
     "base_uri": "https://localhost:8080/",
     "height": 68
    },
    "colab_type": "code",
    "id": "fxUk4nGcW-Bt",
    "outputId": "10303431-0695-4980-f30e-359a70ed3018"
   },
   "outputs": [
    {
     "data": {
      "text/plain": [
       "tensor([0, 1, 0, 0, 1, 0, 0, 2, 1, 3, 0, 0, 4, 1, 2, 4, 4, 4, 1, 0, 3, 3, 1, 1,\n",
       "        1, 2, 1, 1, 4, 2, 0, 1, 1, 4, 3, 4, 1, 4, 4, 3, 1, 1, 4, 1, 3, 3, 4, 4,\n",
       "        1, 1, 1, 0, 1, 3, 0, 1, 2, 2, 4, 0, 4, 4, 0, 3])"
      ]
     },
     "execution_count": 27,
     "metadata": {},
     "output_type": "execute_result"
    }
   ],
   "source": [
    "y"
   ]
  },
  {
   "cell_type": "markdown",
   "metadata": {
    "colab_type": "text",
    "id": "EPJk8hKyW-Bv"
   },
   "source": [
    "# Ожидается примерно следующее\n",
    "```python\n",
    "tensor([[  153,   137,     4,  ...,     0,     0,     0],\n",
    "        [   65,   137, 97522,  ...,     0,     0,     0],\n",
    "        [ 1584,   955,    17,  ...,     0,     0,     0],\n",
    "        ...,\n",
    "        [75752,   137,  8345,  ...,     0,     0,     0],\n",
    "        [33902,  1327,     0,  ...,     0,     0,     0],\n",
    "        [  172,  5175,  1015,  ...,     0,     0,     0]])\n",
    "tensor([0, 1, 0, 0, 1, 0, 0, 2, 1, 3, 0, 0, 4, 1, 2, 4, 4, 4, 1, 0, 3, 3, 1, 1,\n",
    "        1, 2, 1, 1, 4, 2, 0, 1, 1, 4, 3, 4, 1, 4, 4, 3, 1, 1, 4, 1, 3, 3, 4, 4,\n",
    "        1, 1, 1, 0, 1, 3, 0, 1, 2, 2, 4, 0, 4, 4, 0, 3])\n",
    "```"
   ]
  },
  {
   "cell_type": "markdown",
   "metadata": {
    "colab_type": "text",
    "id": "Zy0dkkTIW-Bw"
   },
   "source": [
    "# Обучить нейронку"
   ]
  },
  {
   "cell_type": "markdown",
   "metadata": {
    "colab_type": "text",
    "id": "zNOceKKVW-Bx"
   },
   "source": [
    "## План\n",
    "1. Разбить датасет на трейн/тест или на трейн/валидация/тест, как вам больше нравится\n",
    "1. Сделать класс нейронки, вписать необходимые операции, базовая архитектура ниже\n",
    "1. Написать обучалку\n",
    "1. Добавить логирование\n",
    "    1. Сохранять лосс на каждой итерции обучения __0.25 балла__\n",
    "    1. Каждую эпоху сохранять лосс трейна и тест __0.25 балла__\n",
    "    1. Каждую эпоху рассчитывать метрики __0.25 балла__\n",
    "    1. Добавить прогресс бар, в котором показывается усредненный лосс последних 500-та итераций __0.25 балла__\n",
    "1. Добавить early stopping __0.5 балла__\n",
    "1. Отрисовать графики лосса, метрик, конфьюжин матрицу __0.5 балла__\n",
    "1. Улучшить результат. Например, можно добавить BatchNorm, Dropout, Residual, etc __1 балл__\n",
    "1. Сделать макро f1 больше 0.8 __1 балл__\n",
    "1. Написать какие действия к чему приводили (почему вы их делали и оправдались ли ожидания)\n",
    "\n",
    "## Базовая архитектура\n",
    "1. Предобученные эмбеддинги. Почитайте [здесь](https://pytorch.org/docs/stable/nn.html#embedding) (from_pretrained) как вставить свои эмбеддинги, выше мы читали матрицу эмбеддингов. __1 балл__\n",
    "1. Bidirectional LSTM. __1 балл__\n",
    "2. Несколько параллельных CNN с разными размерами окна и пулингами к ним. __2 балла__\n",
    "3. Конкатенация результатов CNN. __0 баллов__ (идет вместе с предыдущим пунктом)\n",
    "4. Предикт в количество классов. __0 баллов__ (ну все-таки предсказать классы нужно обязательно)\n",
    "\n",
    "__Дополнительные баллы:__\n",
    "- Написать GRU с нуля самому __1 балл__\n",
    "- Побить макро f1 0.84 __1 балл__\n",
    "- Переобучиться и снизить переобучение за счет трюков. Пояснение: показываете, что вот такая архитектура переобучается, а вот я добавил/а это и это, изменил/а это и это и переобучение ушло __1 балл__\n",
    "- Добавить селф аттеншин (написанный своими руками) __3 балла__\n",
    "- За мультихед селф аттеншин еще __1 балл__\n",
    "- Добавить [torch.nn.utils.rnn.pack_padded_sequence()](https://pytorch.org/docs/stable/nn.html#torch.nn.utils.rnn.pack_padded_sequence) и [torch.nn.utils.rnn.pack_sequence()](https://pytorch.org/docs/stable/nn.html#torch.nn.utils.rnn.pack_sequence) для LSTM. Инфа [здесь](#Еще-важный-момент-про-LSTM) __2 балла__\n",
    "- Добавить дропаут для входа LSTM (не просто стандартный пункт при инициализации LSTM) __1 балл__\n",
    "- Добавить шедуллеры __1 балл__\n",
    "- your madness\n",
    "\n",
    "### TIPs:\n",
    "- Если будете брать ```train_test_split```, не забудьте сделать ```reset_index```, чтобы по индексу корректно доставались таргеты из ```y_data```  \n",
    "- Необязательно делить датасет именно на 70 % и 30 %  \n",
    "- Пулинг можно делать без торчового слоя\n",
    "\n",
    "# РАЗМЕР ТЕСТА НЕ МЕНЬШЕ 10% ДАТАСЕТА\n",
    "# 10 БАЛЛОВ МАКСИМУМ"
   ]
  },
  {
   "cell_type": "code",
   "execution_count": 59,
   "metadata": {
    "colab": {
     "base_uri": "https://localhost:8080/",
     "height": 34
    },
    "colab_type": "code",
    "id": "2vOM_RdtedOT",
    "outputId": "9cc082eb-da62-4733-896f-3c9b4adaa1bb"
   },
   "outputs": [
    {
     "data": {
      "text/plain": [
       "237779"
      ]
     },
     "execution_count": 59,
     "metadata": {},
     "output_type": "execute_result"
    }
   ],
   "source": [
    "len(dataset)"
   ]
  },
  {
   "cell_type": "markdown",
   "metadata": {
    "colab_type": "text",
    "id": "QbuQvGQhghlB"
   },
   "source": [
    "## Разбиваем датасет на трейн/тест (80%, 20%)"
   ]
  },
  {
   "cell_type": "code",
   "execution_count": 28,
   "metadata": {},
   "outputs": [],
   "source": [
    "from sklearn.model_selection import train_test_split\n",
    "train, test = train_test_split(data, test_size=0.2)"
   ]
  },
  {
   "cell_type": "code",
   "execution_count": 29,
   "metadata": {},
   "outputs": [],
   "source": [
    "train = train.reset_index(drop=True)\n",
    "test = test.reset_index(drop=True)"
   ]
  },
  {
   "cell_type": "code",
   "execution_count": 30,
   "metadata": {},
   "outputs": [
    {
     "data": {
      "application/vnd.jupyter.widget-view+json": {
       "model_id": "b399ff4c43d7443b9cd2a2c9b61e7239",
       "version_major": 2,
       "version_minor": 0
      },
      "text/plain": [
       "HBox(children=(IntProgress(value=0, description='Loading data', max=190223, style=ProgressStyle(description_wi…"
      ]
     },
     "metadata": {},
     "output_type": "display_data"
    },
    {
     "name": "stdout",
     "output_type": "stream",
     "text": [
      "\n"
     ]
    }
   ],
   "source": [
    "train_data = WordData(train.text, train.category, word2index)"
   ]
  },
  {
   "cell_type": "code",
   "execution_count": 31,
   "metadata": {
    "scrolled": true
   },
   "outputs": [
    {
     "data": {
      "application/vnd.jupyter.widget-view+json": {
       "model_id": "294a4d8f9f4d4d538a4b097c3f9b0c4b",
       "version_major": 2,
       "version_minor": 0
      },
      "text/plain": [
       "HBox(children=(IntProgress(value=0, description='Loading data', max=47556, style=ProgressStyle(description_wid…"
      ]
     },
     "metadata": {},
     "output_type": "display_data"
    },
    {
     "name": "stdout",
     "output_type": "stream",
     "text": [
      "\n"
     ]
    }
   ],
   "source": [
    "test_data = WordData(test.text, test.category, word2index)"
   ]
  },
  {
   "cell_type": "markdown",
   "metadata": {
    "colab_type": "text",
    "id": "gs2gAtq9gtbu"
   },
   "source": [
    "## Classifier (сначала без дропаутов, батч-норма и т.д.)"
   ]
  },
  {
   "cell_type": "code",
   "execution_count": 70,
   "metadata": {
    "colab": {},
    "colab_type": "code",
    "id": "kDE8m3eqfA1o"
   },
   "outputs": [],
   "source": [
    "class Classifier(torch.nn.Module):\n",
    "    \n",
    "    def __init__(self, \n",
    "               embedding_tensor, \n",
    "               n_classes=5, \n",
    "               sequence_len=32, \n",
    "               rnn_model='LSTM', \n",
    "               padding_index=0, \n",
    "               hidden_size=1024,  \n",
    "               batch_first=True, \n",
    "               cnn_out=256, \n",
    "               kernel_sizes=[2,3,4]):\n",
    "  \n",
    "        super(Classifier, self).__init__()\n",
    "  \n",
    "        # embeddings\n",
    "        self.word_embeddings = torch.nn.Embedding.from_pretrained(embedding_tensor)\n",
    "        self.word_embeddings.weight.requires_grad = False\n",
    "        self.embed_size = embedding_tensor.shape[1]\n",
    "        \n",
    "        \n",
    "        # BiLSTM\n",
    "        if rnn_model == 'LSTM':\n",
    "            self.BiLSTM = torch.nn.LSTM(input_size=self.embed_size, \n",
    "                                      hidden_size=hidden_size, \n",
    "                                      batch_first=True, \n",
    "                                      bidirectional=True)\n",
    "    \n",
    "        # convolutional layers    \n",
    "        self.CNN_layer_1 = torch.nn.Sequential(\n",
    "            torch.nn.Conv1d(in_channels=hidden_size*2, out_channels=cnn_out, kernel_size=kernel_sizes[0]),\n",
    "            torch.nn.ReLU(),\n",
    "            torch.nn.MaxPool1d(kernel_size=sequence_len - kernel_sizes[0] + 1)) \n",
    "    \n",
    "        self.CNN_layer_2 = torch.nn.Sequential(\n",
    "            torch.nn.Conv1d(in_channels=hidden_size*2, out_channels=cnn_out, kernel_size=kernel_sizes[1]),\n",
    "            torch.nn.ReLU(),\n",
    "            torch.nn.MaxPool1d(kernel_size=sequence_len - kernel_sizes[1] + 1))\n",
    "    \n",
    "        self.CNN_layer_3 = torch.nn.Sequential(\n",
    "            torch.nn.Conv1d(in_channels=hidden_size*2, out_channels=cnn_out, kernel_size=kernel_sizes[2]),\n",
    "            torch.nn.ReLU(),\n",
    "            torch.nn.MaxPool1d(kernel_size=sequence_len - kernel_sizes[2] + 1))\n",
    "\n",
    "        self.linear = torch.nn.Linear(cnn_out*3, n_classes)  \n",
    "  \n",
    "    def forward(self, x):\n",
    "\n",
    "        x_embed = self.word_embeddings(x)\n",
    "        \n",
    "        out_rnn, ht = self.BiLSTM(x_embed, None)\n",
    "        out_rnn = out_rnn.transpose(1, 2)\n",
    "        \n",
    "        out_cnn_1 = self.CNN_layer_1(out_rnn)\n",
    "        out_cnn_2 = self.CNN_layer_2(out_rnn)\n",
    "        out_cnn_3 = self.CNN_layer_3(out_rnn)\n",
    "\n",
    "        out_cnn = torch.cat([out_cnn_1.squeeze(2), \n",
    "                             out_cnn_2.squeeze(2), \n",
    "                             out_cnn_3.squeeze(2)], dim=1)\n",
    "    \n",
    "        pred = self.linear(out_cnn)\n",
    "        \n",
    "        return pred"
   ]
  },
  {
   "cell_type": "markdown",
   "metadata": {},
   "source": [
    "# Обучалка 1"
   ]
  },
  {
   "cell_type": "code",
   "execution_count": 71,
   "metadata": {
    "colab": {},
    "colab_type": "code",
    "id": "nf8MH3aT_PHk"
   },
   "outputs": [],
   "source": [
    "import torch.optim as optim\n",
    "\n",
    "train_loader = DataLoader(train_data, batch_size=256, drop_last=True)\n",
    "test_loader = DataLoader(test_data, batch_size=256, drop_last=True)\n",
    "\n",
    "epochs = 15\n",
    "\n",
    "device = torch.device('cuda') if torch.cuda.is_available() else torch.device('cpu')\n",
    "\n",
    "vectors = torch.FloatTensor(vectors)\n",
    "model = Classifier(embedding_tensor=vectors).to(device)\n",
    "\n",
    "criterion = torch.nn.CrossEntropyLoss().to(device)\n",
    "optimizer = optim.Adam(model.parameters(), lr=0.0001)\n",
    "\n",
    "iteration_losses = []\n",
    "epoch_train_losses = []\n",
    "epoch_test_losses = []\n",
    "accuracies = []\n",
    "f_scores = []"
   ]
  },
  {
   "cell_type": "code",
   "execution_count": 72,
   "metadata": {
    "colab": {
     "base_uri": "https://localhost:8080/",
     "height": 232
    },
    "colab_type": "code",
    "id": "K9fCHd7cHbgs",
    "outputId": "2e80238e-a09e-408d-89fe-2b69716d98df",
    "scrolled": false
   },
   "outputs": [
    {
     "data": {
      "application/vnd.jupyter.widget-view+json": {
       "model_id": "d0808c8e717a42bda73af3f8b69a58f6",
       "version_major": 2,
       "version_minor": 0
      },
      "text/plain": [
       "HBox(children=(IntProgress(value=0, description='Epoch 1', max=190223, style=ProgressStyle(description_width='…"
      ]
     },
     "metadata": {},
     "output_type": "display_data"
    },
    {
     "name": "stdout",
     "output_type": "stream",
     "text": [
      "\n",
      "Training: train loss = 0.761, test loss = 0.586 \n",
      "Evaluating...\n",
      "Accuracy = 0.788, f1-score = 0.783\n"
     ]
    },
    {
     "data": {
      "application/vnd.jupyter.widget-view+json": {
       "model_id": "905e411cbc7943eb9d4f370d4197718e",
       "version_major": 2,
       "version_minor": 0
      },
      "text/plain": [
       "HBox(children=(IntProgress(value=0, description='Epoch 2', max=190223, style=ProgressStyle(description_width='…"
      ]
     },
     "metadata": {},
     "output_type": "display_data"
    },
    {
     "name": "stdout",
     "output_type": "stream",
     "text": [
      "\n",
      "Training: train loss = 0.555, test loss = 0.533 \n",
      "Evaluating...\n",
      "Accuracy = 0.807, f1-score = 0.805\n"
     ]
    },
    {
     "data": {
      "application/vnd.jupyter.widget-view+json": {
       "model_id": "5402740c886e42f09d957fa20fcacd39",
       "version_major": 2,
       "version_minor": 0
      },
      "text/plain": [
       "HBox(children=(IntProgress(value=0, description='Epoch 3', max=190223, style=ProgressStyle(description_width='…"
      ]
     },
     "metadata": {},
     "output_type": "display_data"
    },
    {
     "name": "stdout",
     "output_type": "stream",
     "text": [
      "\n",
      "Training: train loss = 0.527, test loss = 0.511 \n",
      "Evaluating...\n",
      "Accuracy = 0.815, f1-score = 0.812\n"
     ]
    },
    {
     "data": {
      "application/vnd.jupyter.widget-view+json": {
       "model_id": "92b0a60d90c64c9e9805ed358eda0333",
       "version_major": 2,
       "version_minor": 0
      },
      "text/plain": [
       "HBox(children=(IntProgress(value=0, description='Epoch 4', max=190223, style=ProgressStyle(description_width='…"
      ]
     },
     "metadata": {},
     "output_type": "display_data"
    },
    {
     "name": "stdout",
     "output_type": "stream",
     "text": [
      "\n",
      "Training: train loss = 0.510, test loss = 0.499 \n",
      "Evaluating...\n",
      "Accuracy = 0.820, f1-score = 0.816\n"
     ]
    },
    {
     "data": {
      "application/vnd.jupyter.widget-view+json": {
       "model_id": "4cef3bbebabe49edb076682c9486d7c0",
       "version_major": 2,
       "version_minor": 0
      },
      "text/plain": [
       "HBox(children=(IntProgress(value=0, description='Epoch 5', max=190223, style=ProgressStyle(description_width='…"
      ]
     },
     "metadata": {},
     "output_type": "display_data"
    },
    {
     "name": "stdout",
     "output_type": "stream",
     "text": [
      "\n",
      "Training: train loss = 0.496, test loss = 0.490 \n",
      "Evaluating...\n",
      "Accuracy = 0.823, f1-score = 0.819\n"
     ]
    },
    {
     "data": {
      "application/vnd.jupyter.widget-view+json": {
       "model_id": "f48e0a5fdb154a93bb20ea78115d3385",
       "version_major": 2,
       "version_minor": 0
      },
      "text/plain": [
       "HBox(children=(IntProgress(value=0, description='Epoch 6', max=190223, style=ProgressStyle(description_width='…"
      ]
     },
     "metadata": {},
     "output_type": "display_data"
    },
    {
     "name": "stdout",
     "output_type": "stream",
     "text": [
      "\n",
      "Training: train loss = 0.485, test loss = 0.483 \n",
      "Evaluating...\n",
      "Accuracy = 0.825, f1-score = 0.822\n"
     ]
    },
    {
     "data": {
      "application/vnd.jupyter.widget-view+json": {
       "model_id": "94c5dc0cf9d745db943d4c1c903e4291",
       "version_major": 2,
       "version_minor": 0
      },
      "text/plain": [
       "HBox(children=(IntProgress(value=0, description='Epoch 7', max=190223, style=ProgressStyle(description_width='…"
      ]
     },
     "metadata": {},
     "output_type": "display_data"
    },
    {
     "name": "stdout",
     "output_type": "stream",
     "text": [
      "\n",
      "Training: train loss = 0.476, test loss = 0.477 \n",
      "Evaluating...\n",
      "Accuracy = 0.828, f1-score = 0.825\n"
     ]
    },
    {
     "data": {
      "application/vnd.jupyter.widget-view+json": {
       "model_id": "d592d34a3e404eb8a0b88f6c74a158b6",
       "version_major": 2,
       "version_minor": 0
      },
      "text/plain": [
       "HBox(children=(IntProgress(value=0, description='Epoch 8', max=190223, style=ProgressStyle(description_width='…"
      ]
     },
     "metadata": {},
     "output_type": "display_data"
    },
    {
     "name": "stdout",
     "output_type": "stream",
     "text": [
      "\n",
      "Training: train loss = 0.466, test loss = 0.472 \n",
      "Evaluating...\n",
      "Accuracy = 0.829, f1-score = 0.826\n"
     ]
    },
    {
     "data": {
      "application/vnd.jupyter.widget-view+json": {
       "model_id": "9917444e38b74349ba66b458ee52b718",
       "version_major": 2,
       "version_minor": 0
      },
      "text/plain": [
       "HBox(children=(IntProgress(value=0, description='Epoch 9', max=190223, style=ProgressStyle(description_width='…"
      ]
     },
     "metadata": {},
     "output_type": "display_data"
    },
    {
     "name": "stdout",
     "output_type": "stream",
     "text": [
      "\n",
      "Training: train loss = 0.457, test loss = 0.468 \n",
      "Evaluating...\n",
      "Accuracy = 0.831, f1-score = 0.827\n"
     ]
    },
    {
     "data": {
      "application/vnd.jupyter.widget-view+json": {
       "model_id": "4c5a3232c7c44803b5f5c789336deeb7",
       "version_major": 2,
       "version_minor": 0
      },
      "text/plain": [
       "HBox(children=(IntProgress(value=0, description='Epoch 10', max=190223, style=ProgressStyle(description_width=…"
      ]
     },
     "metadata": {},
     "output_type": "display_data"
    },
    {
     "name": "stdout",
     "output_type": "stream",
     "text": [
      "\n",
      "Training: train loss = 0.449, test loss = 0.463 \n",
      "Evaluating...\n",
      "Accuracy = 0.833, f1-score = 0.829\n"
     ]
    },
    {
     "data": {
      "application/vnd.jupyter.widget-view+json": {
       "model_id": "7f5fc16a22e64474a21f917d51edc7ba",
       "version_major": 2,
       "version_minor": 0
      },
      "text/plain": [
       "HBox(children=(IntProgress(value=0, description='Epoch 11', max=190223, style=ProgressStyle(description_width=…"
      ]
     },
     "metadata": {},
     "output_type": "display_data"
    },
    {
     "name": "stdout",
     "output_type": "stream",
     "text": [
      "\n",
      "Training: train loss = 0.441, test loss = 0.459 \n",
      "Evaluating...\n",
      "Accuracy = 0.834, f1-score = 0.830\n"
     ]
    },
    {
     "data": {
      "application/vnd.jupyter.widget-view+json": {
       "model_id": "48d34b0d0e16463aba55c053e892f979",
       "version_major": 2,
       "version_minor": 0
      },
      "text/plain": [
       "HBox(children=(IntProgress(value=0, description='Epoch 12', max=190223, style=ProgressStyle(description_width=…"
      ]
     },
     "metadata": {},
     "output_type": "display_data"
    },
    {
     "name": "stdout",
     "output_type": "stream",
     "text": [
      "\n",
      "Training: train loss = 0.433, test loss = 0.456 \n",
      "Evaluating...\n",
      "Accuracy = 0.836, f1-score = 0.832\n"
     ]
    },
    {
     "data": {
      "application/vnd.jupyter.widget-view+json": {
       "model_id": "82410a8b2de644cfb5cb525c7c28ed3d",
       "version_major": 2,
       "version_minor": 0
      },
      "text/plain": [
       "HBox(children=(IntProgress(value=0, description='Epoch 13', max=190223, style=ProgressStyle(description_width=…"
      ]
     },
     "metadata": {},
     "output_type": "display_data"
    },
    {
     "name": "stdout",
     "output_type": "stream",
     "text": [
      "\n",
      "Training: train loss = 0.426, test loss = 0.454 \n",
      "Evaluating...\n",
      "Accuracy = 0.837, f1-score = 0.833\n"
     ]
    },
    {
     "data": {
      "application/vnd.jupyter.widget-view+json": {
       "model_id": "edab305fb6c94cfca60d793066fef460",
       "version_major": 2,
       "version_minor": 0
      },
      "text/plain": [
       "HBox(children=(IntProgress(value=0, description='Epoch 14', max=190223, style=ProgressStyle(description_width=…"
      ]
     },
     "metadata": {},
     "output_type": "display_data"
    },
    {
     "name": "stdout",
     "output_type": "stream",
     "text": [
      "\n",
      "Training: train loss = 0.418, test loss = 0.452 \n",
      "Evaluating...\n",
      "Accuracy = 0.838, f1-score = 0.834\n"
     ]
    },
    {
     "data": {
      "application/vnd.jupyter.widget-view+json": {
       "model_id": "94aae84e2c6442d3a6f0f656d6d1a23a",
       "version_major": 2,
       "version_minor": 0
      },
      "text/plain": [
       "HBox(children=(IntProgress(value=0, description='Epoch 15', max=190223, style=ProgressStyle(description_width=…"
      ]
     },
     "metadata": {},
     "output_type": "display_data"
    },
    {
     "name": "stdout",
     "output_type": "stream",
     "text": [
      "\n",
      "Training: train loss = 0.410, test loss = 0.452 \n",
      "Evaluating...\n",
      "Accuracy = 0.837, f1-score = 0.834\n"
     ]
    }
   ],
   "source": [
    "from sklearn.metrics import accuracy_score, f1_score\n",
    "from tqdm.auto import tqdm\n",
    "\n",
    "best_test_loss = 1.7 # для early stopping\n",
    "\n",
    "for n_epoch in range(epochs):\n",
    "        \n",
    "    train_losses = []\n",
    "    test_losses = []\n",
    "    test_targets = []\n",
    "    test_preds = []\n",
    "    \n",
    "    progress_bar = tqdm(total=len(train_loader.dataset), desc='Epoch {}'.format(n_epoch + 1))\n",
    "\n",
    "    for x, y in train_loader:\n",
    "        \n",
    "        optimizer.zero_grad()\n",
    "        pred = model.forward(x.to(device))            \n",
    "        loss = criterion(pred, y.long().to(device))  \n",
    "        loss.backward()\n",
    "        optimizer.step() \n",
    "        \n",
    "        iteration_losses.append(loss.item())\n",
    "        train_losses.append(loss.item())\n",
    "        progress_bar.set_postfix(loss=np.mean(iteration_losses[-500:]))\n",
    "        progress_bar.update(x.shape[0])\n",
    "        \n",
    "    progress_bar.close()\n",
    "    epoch_train_losses.append(np.mean(train_losses))\n",
    "  \n",
    "    for x_test, y_test in test_loader:\n",
    "        with torch.no_grad():\n",
    "            pred = model.forward(x_test.to(device))\n",
    "            test_preds.append(pred.cpu()) \n",
    "        test_targets.append(y_test.long())\n",
    "        loss = criterion(pred, y_test.long().to(device))\n",
    "        test_losses.append(loss.item()) \n",
    "        \n",
    "    mean_test_loss = np.mean(test_losses)\n",
    "    epoch_test_losses.append(mean_test_loss)\n",
    "    \n",
    "    print('Training: train loss = {:.3f}, test loss = {:.3f} '.format(np.mean(train_losses), mean_test_loss))\n",
    "    print(\"Evaluating...\")\n",
    "    \n",
    "    test_preds_cat = torch.cat(test_preds, dim=0)\n",
    "    test_preds_argmax = torch.argmax(test_preds_cat, dim=1)\n",
    "    test_targets = torch.cat(test_targets, dim=0)  \n",
    "\n",
    "    accuracy = accuracy_score(test_targets, test_preds_argmax)\n",
    "    f_score = f1_score(test_targets, test_preds_argmax, average='macro')\n",
    "    accuracies.append(accuracy)\n",
    "    f_scores.append(f_score)\n",
    "    print('Accuracy = {:.3f}, f1-score = {:.3f}'.format(accuracy, f_score))\n",
    "    \n",
    "    if mean_test_loss < best_test_loss:\n",
    "        best_test_loss = mean_test_loss\n",
    "    else:\n",
    "        print('Early stopping')\n",
    "        break    "
   ]
  },
  {
   "cell_type": "markdown",
   "metadata": {},
   "source": [
    "(Прогресс бар немного полетел...)"
   ]
  },
  {
   "cell_type": "markdown",
   "metadata": {},
   "source": [
    "# Итак, за 15 эпох на lr=0.0001 мы получили качество 0.83\n",
    "Без дропаутов, батч-нормализации и т.п. Наверное, можно сделать лучше - чтобы быстрее сходилось. Но сначала посмотрим на графики.  "
   ]
  },
  {
   "cell_type": "markdown",
   "metadata": {},
   "source": [
    "# Строим графики"
   ]
  },
  {
   "cell_type": "code",
   "execution_count": 73,
   "metadata": {
    "scrolled": false
   },
   "outputs": [
    {
     "data": {
      "text/plain": [
       "[<matplotlib.lines.Line2D at 0x7f3581700ba8>]"
      ]
     },
     "execution_count": 73,
     "metadata": {},
     "output_type": "execute_result"
    },
    {
     "data": {
      "image/png": "[encoded data removed]",
      "text/plain": [
       "<Figure size 720x720 with 1 Axes>"
      ]
     },
     "metadata": {
      "needs_background": "light"
     },
     "output_type": "display_data"
    }
   ],
   "source": [
    "from pylab import rcParams\n",
    "rcParams['figure.figsize'] = 10, 10\n",
    "\n",
    "plt.title('Baseline Loss')\n",
    "plt.xlabel('Iterations')\n",
    "plt.ylabel('Loss')\n",
    "plt.grid()\n",
    "plt.plot(iteration_losses)"
   ]
  },
  {
   "cell_type": "markdown",
   "metadata": {},
   "source": [
    "## Видно, что чем меньше лосс, тем он больше скачет. "
   ]
  },
  {
   "cell_type": "code",
   "execution_count": 74,
   "metadata": {},
   "outputs": [
    {
     "data": {
      "text/plain": [
       "[<matplotlib.lines.Line2D at 0x7f35816cfeb8>]"
      ]
     },
     "execution_count": 74,
     "metadata": {},
     "output_type": "execute_result"
    },
    {
     "data": {
      "image/png": "[encoded data removed]",
      "text/plain": [
       "<Figure size 720x720 with 1 Axes>"
      ]
     },
     "metadata": {
      "needs_background": "light"
     },
     "output_type": "display_data"
    }
   ],
   "source": [
    "plt.title('Baseline Accuracy')\n",
    "plt.xlabel('Epochs')\n",
    "plt.ylabel('Accuracy')\n",
    "plt.grid()\n",
    "plt.plot(accuracies)"
   ]
  },
  {
   "cell_type": "code",
   "execution_count": 75,
   "metadata": {
    "scrolled": false
   },
   "outputs": [
    {
     "data": {
      "text/plain": [
       "[<matplotlib.lines.Line2D at 0x7f35816a2518>]"
      ]
     },
     "execution_count": 75,
     "metadata": {},
     "output_type": "execute_result"
    },
    {
     "data": {
      "image/png": "[encoded data removed]",
      "text/plain": [
       "<Figure size 720x720 with 1 Axes>"
      ]
     },
     "metadata": {
      "needs_background": "light"
     },
     "output_type": "display_data"
    }
   ],
   "source": [
    "plt.title('Baseline F1-score (macro)')\n",
    "plt.xlabel('Epochs')\n",
    "plt.ylabel('F1-score')\n",
    "plt.grid()\n",
    "plt.plot(f_scores)"
   ]
  },
  {
   "cell_type": "markdown",
   "metadata": {},
   "source": [
    "## Confusion matrix"
   ]
  },
  {
   "cell_type": "code",
   "execution_count": 76,
   "metadata": {},
   "outputs": [],
   "source": [
    "# собираем предсказания и реальные таргеты\n",
    "\n",
    "all_test_preds = []\n",
    "all_test_targets = []\n",
    "\n",
    "for x_test, y_test in test_loader:\n",
    "    with torch.no_grad():\n",
    "        pred = model.forward(x_test.to(device))\n",
    "        all_test_preds.append(pred.cpu()) \n",
    "        all_test_targets.append(y_test.long())"
   ]
  },
  {
   "cell_type": "code",
   "execution_count": 77,
   "metadata": {},
   "outputs": [],
   "source": [
    "all_test_preds_cat = torch.cat(all_test_preds, dim=0)\n",
    "all_test_preds_argmax = torch.argmax(all_test_preds_cat, dim=1)\n",
    "all_test_targets = torch.cat(all_test_targets, dim=0) "
   ]
  },
  {
   "cell_type": "code",
   "execution_count": 78,
   "metadata": {
    "scrolled": true
   },
   "outputs": [
    {
     "data": {
      "text/plain": [
       "tensor([4, 0, 0, 1, 3, 3, 4, 3, 1, 3])"
      ]
     },
     "execution_count": 78,
     "metadata": {},
     "output_type": "execute_result"
    }
   ],
   "source": [
    "# таргеты\n",
    "all_test_targets[:10]"
   ]
  },
  {
   "cell_type": "code",
   "execution_count": 79,
   "metadata": {},
   "outputs": [
    {
     "data": {
      "text/plain": [
       "array([4, 0, 0, 1, 4, 3, 4, 3, 1, 3])"
      ]
     },
     "execution_count": 79,
     "metadata": {},
     "output_type": "execute_result"
    }
   ],
   "source": [
    "# предсказания\n",
    "np.array(all_test_preds_argmax[:10])"
   ]
  },
  {
   "cell_type": "code",
   "execution_count": 80,
   "metadata": {},
   "outputs": [
    {
     "data": {
      "text/plain": [
       "{'business': 0, 'law': 1, 'love': 2, 'relax': 3, 'food': 4}"
      ]
     },
     "execution_count": 80,
     "metadata": {},
     "output_type": "execute_result"
    }
   ],
   "source": [
    "cat_mapper"
   ]
  },
  {
   "cell_type": "code",
   "execution_count": 81,
   "metadata": {},
   "outputs": [],
   "source": [
    "labels = cat_mapper.keys()"
   ]
  },
  {
   "cell_type": "code",
   "execution_count": 58,
   "metadata": {},
   "outputs": [],
   "source": [
    "from sklearn.metrics import confusion_matrix"
   ]
  },
  {
   "cell_type": "code",
   "execution_count": 60,
   "metadata": {},
   "outputs": [],
   "source": [
    "def plot_confusion_matrix(y_true, y_pred, classes,\n",
    "                          normalize=False,\n",
    "                          title=None,\n",
    "                          cmap=plt.cm.Blues):\n",
    "    \"\"\"\n",
    "    This function prints and plots the confusion matrix.\n",
    "    Normalization can be applied by setting `normalize=True`.\n",
    "    \"\"\"\n",
    "    if not title:\n",
    "        if normalize:\n",
    "            title = 'Normalized confusion matrix'\n",
    "        else:\n",
    "            title = 'Confusion matrix, without normalization'\n",
    "\n",
    "    # Compute confusion matrix\n",
    "    cm = confusion_matrix(y_true, y_pred)\n",
    "    \n",
    "    if normalize:\n",
    "        cm = cm.astype('float') / cm.sum(axis=1)[:, np.newaxis]\n",
    "        print(\"Normalized confusion matrix\")\n",
    "    else:\n",
    "        print('Confusion matrix, without normalization')\n",
    "\n",
    "    print(cm)\n",
    "\n",
    "    fig, ax = plt.subplots()\n",
    "    im = ax.imshow(cm, interpolation='nearest', cmap=cmap)\n",
    "    ax.figure.colorbar(im, ax=ax)\n",
    "    # We want to show all ticks...\n",
    "    ax.set(xticks=np.arange(cm.shape[1]),\n",
    "           yticks=np.arange(cm.shape[0]),\n",
    "           # ... and label them with the respective list entries\n",
    "           xticklabels=classes, yticklabels=classes,\n",
    "           title=title,\n",
    "           ylabel='True label',\n",
    "           xlabel='Predicted label')\n",
    "\n",
    "    # Rotate the tick labels and set their alignment.\n",
    "    plt.setp(ax.get_xticklabels(), rotation=45, ha=\"right\",\n",
    "             rotation_mode=\"anchor\")\n",
    "\n",
    "    # Loop over data dimensions and create text annotations.\n",
    "    fmt = '.2f' if normalize else 'd'\n",
    "    thresh = cm.max() / 2.\n",
    "    for i in range(cm.shape[0]):\n",
    "        for j in range(cm.shape[1]):\n",
    "            ax.text(j, i, format(cm[i, j], fmt),\n",
    "                    ha=\"center\", va=\"center\",\n",
    "                    color=\"white\" if cm[i, j] > thresh else \"black\")\n",
    "    fig.tight_layout()\n",
    "    return ax\n",
    "\n",
    "np.set_printoptions(precision=2)"
   ]
  },
  {
   "cell_type": "code",
   "execution_count": 108,
   "metadata": {},
   "outputs": [
    {
     "name": "stdout",
     "output_type": "stream",
     "text": [
      "Normalized confusion matrix\n",
      "[[0.73 0.18 0.02 0.07 0.01]\n",
      " [0.08 0.87 0.02 0.03 0.  ]\n",
      " [0.01 0.03 0.86 0.08 0.02]\n",
      " [0.04 0.03 0.06 0.81 0.05]\n",
      " [0.01 0.01 0.01 0.05 0.92]]\n"
     ]
    },
    {
     "data": {
      "image/png": "[encoded data removed]",
      "text/plain": [
       "<Figure size 720x720 with 2 Axes>"
      ]
     },
     "metadata": {
      "needs_background": "light"
     },
     "output_type": "display_data"
    }
   ],
   "source": [
    "# confusion matrix\n",
    "plot_confusion_matrix(all_test_targets, all_test_preds_argmax, classes=labels, normalize=True,\n",
    "                      title='Confusion matrix')\n",
    "\n",
    "\n",
    "plt.show()\n"
   ]
  },
  {
   "cell_type": "markdown",
   "metadata": {},
   "source": [
    "Видно, что больше всего ошибок в определении категорий \"бизнес\" или \"закон\" - плохо распознается бизнес. Наиболее уверенно классификатор справляется с \"едой\". \"Закон\", в свою очередь, хорошо предсказывается, т.к. это самая многочисленная категория. "
   ]
  },
  {
   "cell_type": "markdown",
   "metadata": {},
   "source": [
    "## Теперь попробуем улучшить результаты"
   ]
  },
  {
   "cell_type": "code",
   "execution_count": 150,
   "metadata": {},
   "outputs": [],
   "source": [
    "class Classifier_2(torch.nn.Module):\n",
    "    \n",
    "    def __init__(self, \n",
    "               embedding_tensor, \n",
    "               n_classes=5, \n",
    "               sequence_len=32, \n",
    "               rnn_model='LSTM', \n",
    "               padding_index=0, \n",
    "               hidden_size=1024,  \n",
    "               batch_first=True,\n",
    "               cnn_out=256,\n",
    "               kernel_sizes=[2,3,4]):\n",
    "  \n",
    "        super(Classifier_2, self).__init__()\n",
    "  \n",
    "        # embeddings\n",
    "        self.word_embeddings = torch.nn.Embedding.from_pretrained(embedding_tensor)\n",
    "        self.word_embeddings.weight.requires_grad = False\n",
    "        self.drop_en = torch.nn.Dropout(p=0.5) # СДЕЛАЕМ ДРОПАУТ ЭМБЕДДИНГОВ\n",
    "        self.embed_size = embedding_tensor.shape[1]\n",
    "        \n",
    "        \n",
    "        # BiLSTM\n",
    "        if rnn_model == 'LSTM':\n",
    "            self.BiLSTM = torch.nn.LSTM(input_size=self.embed_size, \n",
    "                                          hidden_size=hidden_size, \n",
    "                                          batch_first=True, \n",
    "                                          num_layers=2, # сделаем 2 lstm-слоя вместо 1\n",
    "                                          bidirectional=True,\n",
    "                                          dropout=0.5) # установим здесь dropout - чтобы он был на 1-ом слое bilstm\n",
    "    \n",
    "        # convolutional layers    \n",
    "        self.CNN_layer_1 = torch.nn.Sequential(\n",
    "            torch.nn.Conv1d(in_channels=hidden_size*2, out_channels=cnn_out, kernel_size=kernel_sizes[0]),\n",
    "            torch.nn.BatchNorm1d(cnn_out),\n",
    "            torch.nn.ELU(), # попробуем ELU\n",
    "            torch.nn.MaxPool1d(kernel_size=sequence_len - kernel_sizes[0] + 1),\n",
    "        ) # сделаем батч норм\n",
    "    \n",
    "        self.CNN_layer_2 = torch.nn.Sequential(\n",
    "            torch.nn.Conv1d(in_channels=hidden_size*2, out_channels=cnn_out, kernel_size=kernel_sizes[1]),\n",
    "            torch.nn.BatchNorm1d(cnn_out),\n",
    "            torch.nn.ELU(), # попробуем ELU\n",
    "            torch.nn.MaxPool1d(kernel_size=sequence_len - kernel_sizes[1] + 1),\n",
    "        ) # сделаем батч норм\n",
    "    \n",
    "        self.CNN_layer_3 = torch.nn.Sequential(\n",
    "            torch.nn.Conv1d(in_channels=hidden_size*2, out_channels=cnn_out, kernel_size=kernel_sizes[2]),\n",
    "            torch.nn.BatchNorm1d(cnn_out),\n",
    "            torch.nn.ELU(), # попробуем ELU\n",
    "            torch.nn.MaxPool1d(kernel_size=sequence_len - kernel_sizes[2] + 1),\n",
    "        ) # сделаем батч норм\n",
    "        \n",
    "        self.cnn_batch_norm = torch.nn.BatchNorm1d(cnn_out*3) # и еще раз батчнорм для всего выхода с рекуррентного слоя\n",
    "        self.cnn_dropout = torch.nn.Dropout(0.5) \n",
    "        self.linear = torch.nn.Linear(cnn_out*3, n_classes)  \n",
    "  \n",
    "    def forward(self, x):\n",
    "\n",
    "        x_embed = self.word_embeddings(x)\n",
    "        x_embed = self.drop_en(x_embed) # дропаут эмбеддингов\n",
    "\n",
    "        # None is for initial hidden state\n",
    "        out_rnn, ht = self.BiLSTM(x_embed, None)\n",
    "        out_rnn = out_rnn.transpose(1, 2)\n",
    "        \n",
    "        out_cnn_1 = self.CNN_layer_1(out_rnn)\n",
    "        out_cnn_2 = self.CNN_layer_2(out_rnn)\n",
    "        out_cnn_3 = self.CNN_layer_3(out_rnn)\n",
    "\n",
    "        out_cnn = torch.cat([out_cnn_1.squeeze(2), \n",
    "                             out_cnn_2.squeeze(2), \n",
    "                             out_cnn_3.squeeze(2)], dim=1)\n",
    "    \n",
    "        out_cnn = self.cnn_batch_norm(out_cnn) \n",
    "      #  out_cnn = self.cnn_dropout(out_cnn) # добавим здесь тоже dropout\n",
    "        pred = self.linear(out_cnn)\n",
    "        \n",
    "        return pred"
   ]
  },
  {
   "cell_type": "code",
   "execution_count": 154,
   "metadata": {
    "scrolled": false
   },
   "outputs": [
    {
     "data": {
      "application/vnd.jupyter.widget-view+json": {
       "model_id": "72e630b8b681437b8039eb37e67535e0",
       "version_major": 2,
       "version_minor": 0
      },
      "text/plain": [
       "HBox(children=(IntProgress(value=0, description='Epoch 1', max=190223, style=ProgressStyle(description_width='…"
      ]
     },
     "metadata": {},
     "output_type": "display_data"
    },
    {
     "name": "stdout",
     "output_type": "stream",
     "text": [
      "\n",
      "Training: train loss = 0.783, test loss = 0.567 \n",
      "Evaluating...\n",
      "Accuracy = 0.802, f1-score = 0.796\n"
     ]
    },
    {
     "data": {
      "application/vnd.jupyter.widget-view+json": {
       "model_id": "9ef50cb42bc343a8aa708acad6baa139",
       "version_major": 2,
       "version_minor": 0
      },
      "text/plain": [
       "HBox(children=(IntProgress(value=0, description='Epoch 2', max=190223, style=ProgressStyle(description_width='…"
      ]
     },
     "metadata": {},
     "output_type": "display_data"
    },
    {
     "name": "stdout",
     "output_type": "stream",
     "text": [
      "\n",
      "Training: train loss = 0.649, test loss = 0.513 \n",
      "Evaluating...\n",
      "Accuracy = 0.819, f1-score = 0.815\n"
     ]
    },
    {
     "data": {
      "application/vnd.jupyter.widget-view+json": {
       "model_id": "9037053af63340169bb0fdd430827e3f",
       "version_major": 2,
       "version_minor": 0
      },
      "text/plain": [
       "HBox(children=(IntProgress(value=0, description='Epoch 3', max=190223, style=ProgressStyle(description_width='…"
      ]
     },
     "metadata": {},
     "output_type": "display_data"
    },
    {
     "name": "stdout",
     "output_type": "stream",
     "text": [
      "\n",
      "Training: train loss = 0.593, test loss = 0.485 \n",
      "Evaluating...\n",
      "Accuracy = 0.827, f1-score = 0.823\n"
     ]
    },
    {
     "data": {
      "application/vnd.jupyter.widget-view+json": {
       "model_id": "22280bef478a45b0bd7fb368a9b77c55",
       "version_major": 2,
       "version_minor": 0
      },
      "text/plain": [
       "HBox(children=(IntProgress(value=0, description='Epoch 4', max=190223, style=ProgressStyle(description_width='…"
      ]
     },
     "metadata": {},
     "output_type": "display_data"
    },
    {
     "name": "stdout",
     "output_type": "stream",
     "text": [
      "\n",
      "Training: train loss = 0.567, test loss = 0.478 \n",
      "Evaluating...\n",
      "Accuracy = 0.829, f1-score = 0.824\n"
     ]
    },
    {
     "data": {
      "application/vnd.jupyter.widget-view+json": {
       "model_id": "6c0cf1334e6c4c3dba71ff7b188e07ad",
       "version_major": 2,
       "version_minor": 0
      },
      "text/plain": [
       "HBox(children=(IntProgress(value=0, description='Epoch 5', max=190223, style=ProgressStyle(description_width='…"
      ]
     },
     "metadata": {},
     "output_type": "display_data"
    },
    {
     "name": "stdout",
     "output_type": "stream",
     "text": [
      "\n",
      "Training: train loss = 0.551, test loss = 0.475 \n",
      "Evaluating...\n",
      "Accuracy = 0.830, f1-score = 0.825\n"
     ]
    },
    {
     "data": {
      "application/vnd.jupyter.widget-view+json": {
       "model_id": "4887fae7035a4974a592b1b622998d37",
       "version_major": 2,
       "version_minor": 0
      },
      "text/plain": [
       "HBox(children=(IntProgress(value=0, description='Epoch 6', max=190223, style=ProgressStyle(description_width='…"
      ]
     },
     "metadata": {},
     "output_type": "display_data"
    },
    {
     "name": "stdout",
     "output_type": "stream",
     "text": [
      "\n",
      "Training: train loss = 0.539, test loss = 0.464 \n",
      "Evaluating...\n",
      "Accuracy = 0.832, f1-score = 0.828\n"
     ]
    },
    {
     "data": {
      "application/vnd.jupyter.widget-view+json": {
       "model_id": "b596026a01da41a68d8439a93e3a198a",
       "version_major": 2,
       "version_minor": 0
      },
      "text/plain": [
       "HBox(children=(IntProgress(value=0, description='Epoch 7', max=190223, style=ProgressStyle(description_width='…"
      ]
     },
     "metadata": {},
     "output_type": "display_data"
    },
    {
     "name": "stdout",
     "output_type": "stream",
     "text": [
      "\n",
      "Training: train loss = 0.528, test loss = 0.461 \n",
      "Evaluating...\n",
      "Accuracy = 0.835, f1-score = 0.830\n"
     ]
    },
    {
     "data": {
      "application/vnd.jupyter.widget-view+json": {
       "model_id": "4556e191772b43f8a11f5fdbb72a62c2",
       "version_major": 2,
       "version_minor": 0
      },
      "text/plain": [
       "HBox(children=(IntProgress(value=0, description='Epoch 8', max=190223, style=ProgressStyle(description_width='…"
      ]
     },
     "metadata": {},
     "output_type": "display_data"
    },
    {
     "name": "stdout",
     "output_type": "stream",
     "text": [
      "\n",
      "Training: train loss = 0.521, test loss = 0.451 \n",
      "Evaluating...\n",
      "Accuracy = 0.837, f1-score = 0.833\n"
     ]
    },
    {
     "data": {
      "application/vnd.jupyter.widget-view+json": {
       "model_id": "e1c38195daec4933bd3e7a2f8d7bf28a",
       "version_major": 2,
       "version_minor": 0
      },
      "text/plain": [
       "HBox(children=(IntProgress(value=0, description='Epoch 9', max=190223, style=ProgressStyle(description_width='…"
      ]
     },
     "metadata": {},
     "output_type": "display_data"
    },
    {
     "name": "stdout",
     "output_type": "stream",
     "text": [
      "\n",
      "Training: train loss = 0.513, test loss = 0.450 \n",
      "Evaluating...\n",
      "Accuracy = 0.838, f1-score = 0.835\n"
     ]
    },
    {
     "data": {
      "application/vnd.jupyter.widget-view+json": {
       "model_id": "e43a1493bfd44b78ac432286319ec620",
       "version_major": 2,
       "version_minor": 0
      },
      "text/plain": [
       "HBox(children=(IntProgress(value=0, description='Epoch 10', max=190223, style=ProgressStyle(description_width=…"
      ]
     },
     "metadata": {},
     "output_type": "display_data"
    },
    {
     "name": "stdout",
     "output_type": "stream",
     "text": [
      "\n",
      "Training: train loss = 0.505, test loss = 0.446 \n",
      "Evaluating...\n",
      "Accuracy = 0.839, f1-score = 0.835\n"
     ]
    },
    {
     "data": {
      "application/vnd.jupyter.widget-view+json": {
       "model_id": "a0f2a452fd5c45f5b3730611a42e7a27",
       "version_major": 2,
       "version_minor": 0
      },
      "text/plain": [
       "HBox(children=(IntProgress(value=0, description='Epoch 11', max=190223, style=ProgressStyle(description_width=…"
      ]
     },
     "metadata": {},
     "output_type": "display_data"
    },
    {
     "name": "stdout",
     "output_type": "stream",
     "text": [
      "\n",
      "Training: train loss = 0.497, test loss = 0.439 \n",
      "Evaluating...\n",
      "Accuracy = 0.843, f1-score = 0.840\n"
     ]
    },
    {
     "data": {
      "application/vnd.jupyter.widget-view+json": {
       "model_id": "b65af7ce47f2470aac6e3de3278ef3f9",
       "version_major": 2,
       "version_minor": 0
      },
      "text/plain": [
       "HBox(children=(IntProgress(value=0, description='Epoch 12', max=190223, style=ProgressStyle(description_width=…"
      ]
     },
     "metadata": {},
     "output_type": "display_data"
    },
    {
     "name": "stdout",
     "output_type": "stream",
     "text": [
      "\n",
      "Training: train loss = 0.491, test loss = 0.440 \n",
      "Evaluating...\n",
      "Accuracy = 0.841, f1-score = 0.837\n",
      "Early stopping\n"
     ]
    }
   ],
   "source": [
    "epochs = 15\n",
    "\n",
    "device = torch.device('cuda') if torch.cuda.is_available() else torch.device('cpu')\n",
    "\n",
    "vectors = torch.FloatTensor(vectors)\n",
    "model_2 = Classifier_2(embedding_tensor=vectors).to(device)\n",
    "\n",
    "criterion = torch.nn.CrossEntropyLoss().to(device)\n",
    "optimizer = optim.Adam(model_2.parameters(), lr=0.0001) \n",
    "\n",
    "iteration_losses_2 = []\n",
    "epoch_train_losses_2 = []\n",
    "epoch_test_losses_2 = []\n",
    "accuracies_2 = []\n",
    "f_scores_2 = []\n",
    "\n",
    "best_test_loss = 1.7 # для early stopping\n",
    "\n",
    "\n",
    "\n",
    "for n_epoch in range(epochs):\n",
    "        \n",
    "    model_2.train()\n",
    "    \n",
    "    train_losses = []\n",
    "    test_losses = []\n",
    "    test_targets = []\n",
    "    test_preds = []\n",
    "    \n",
    "    progress_bar = tqdm(total=len(train_loader.dataset), desc='Epoch {}'.format(n_epoch + 1))\n",
    "\n",
    "    for x, y in train_loader:\n",
    "        \n",
    "        optimizer.zero_grad()\n",
    "        pred = model_2(x.to(device))            \n",
    "        loss = criterion(pred, y.long().to(device))  \n",
    "        loss.backward()\n",
    "        optimizer.step() \n",
    "        \n",
    "        iteration_losses_2.append(loss.item())\n",
    "        train_losses.append(loss.item())\n",
    "        progress_bar.set_postfix(loss=np.mean(iteration_losses_2[-500:]))\n",
    "        progress_bar.update(x.shape[0])\n",
    "        \n",
    "    progress_bar.close()\n",
    "    epoch_train_losses_2.append(np.mean(train_losses))\n",
    "    \n",
    "    model_2.eval()\n",
    "  \n",
    "    for x_test, y_test in test_loader:\n",
    "        with torch.no_grad():\n",
    "            pred = model_2(x_test.to(device))\n",
    "            test_preds.append(pred.cpu()) \n",
    "        test_targets.append(y_test.long())\n",
    "        loss = criterion(pred, y_test.long().to(device)) \n",
    "        test_losses.append(loss.item()) \n",
    "        \n",
    "    mean_test_loss = np.mean(test_losses)\n",
    "    epoch_test_losses_2.append(mean_test_loss)\n",
    "    \n",
    "    print('Training: train loss = {:.3f}, test loss = {:.3f} '.format(np.mean(train_losses), mean_test_loss))\n",
    "    print(\"Evaluating...\")\n",
    "    \n",
    "    test_preds_cat = torch.cat(test_preds, dim=0)\n",
    "    test_preds_argmax = torch.argmax(test_preds_cat, dim=1)\n",
    "    test_targets = torch.cat(test_targets, dim=0)  \n",
    "\n",
    "    accuracy = accuracy_score(test_targets, test_preds_argmax)\n",
    "    f_score = f1_score(test_targets, test_preds_argmax, average='macro')\n",
    "    accuracies_2.append(accuracy)\n",
    "    f_scores_2.append(f_score)\n",
    "    print('Accuracy = {:.3f}, f1-score = {:.3f}'.format(accuracy, f_score))\n",
    "    \n",
    "    if mean_test_loss < best_test_loss:\n",
    "        best_test_loss = mean_test_loss\n",
    "    else:\n",
    "        print('Early stopping')\n",
    "        break    "
   ]
  },
  {
   "cell_type": "code",
   "execution_count": 155,
   "metadata": {},
   "outputs": [
    {
     "data": {
      "text/plain": [
       "[<matplotlib.lines.Line2D at 0x7f3580aa5400>]"
      ]
     },
     "execution_count": 155,
     "metadata": {},
     "output_type": "execute_result"
    },
    {
     "data": {
      "image/png": "[encoded data removed]",
      "text/plain": [
       "<Figure size 720x720 with 1 Axes>"
      ]
     },
     "metadata": {
      "needs_background": "light"
     },
     "output_type": "display_data"
    }
   ],
   "source": [
    "from pylab import rcParams\n",
    "rcParams['figure.figsize'] = 10, 10\n",
    "\n",
    "plt.title('Second Model Loss')\n",
    "plt.xlabel('Iterations')\n",
    "plt.ylabel('Loss')\n",
    "plt.grid()\n",
    "plt.plot(iteration_losses_2)"
   ]
  },
  {
   "cell_type": "code",
   "execution_count": 158,
   "metadata": {
    "scrolled": false
   },
   "outputs": [
    {
     "data": {
      "text/plain": [
       "[<matplotlib.lines.Line2D at 0x7f35814bc2b0>]"
      ]
     },
     "execution_count": 158,
     "metadata": {},
     "output_type": "execute_result"
    },
    {
     "data": {
      "image/png": "[encoded data removed]",
      "text/plain": [
       "<Figure size 720x720 with 1 Axes>"
      ]
     },
     "metadata": {
      "needs_background": "light"
     },
     "output_type": "display_data"
    }
   ],
   "source": [
    "plt.title('Baseline Accuracy')\n",
    "plt.xlabel('Epochs')\n",
    "plt.ylabel('Accuracy')\n",
    "plt.grid()\n",
    "plt.plot(accuracies_2)"
   ]
  },
  {
   "cell_type": "code",
   "execution_count": 157,
   "metadata": {
    "scrolled": false
   },
   "outputs": [
    {
     "data": {
      "text/plain": [
       "[<matplotlib.lines.Line2D at 0x7f35813cdba8>]"
      ]
     },
     "execution_count": 157,
     "metadata": {},
     "output_type": "execute_result"
    },
    {
     "data": {
      "image/png": "[encoded data removed]",
      "text/plain": [
       "<Figure size 720x720 with 1 Axes>"
      ]
     },
     "metadata": {
      "needs_background": "light"
     },
     "output_type": "display_data"
    }
   ],
   "source": [
    "plt.title('Baseline F1-score (macro)')\n",
    "plt.xlabel('Epochs')\n",
    "plt.ylabel('F1-score')\n",
    "plt.grid()\n",
    "plt.plot(f_scores_2)"
   ]
  },
  {
   "cell_type": "code",
   "execution_count": null,
   "metadata": {},
   "outputs": [],
   "source": []
  },
  {
   "cell_type": "markdown",
   "metadata": {},
   "source": [
    "Сетка обучается на 2-3 эпохи быстрее с дропаутами на слоях bilstm и cnn и с батч нормом, а также с ELU вместо RELU. Но на 13 эпохе действует early stopping. Получается F1 = 0.84. По графику лосса видно, что обучение проходит чуть-чуть ровнее, особенно в начале, но этого недостаточно. \n",
    "\n",
    "## Попробуем добавить Scheduler"
   ]
  },
  {
   "cell_type": "code",
   "execution_count": 33,
   "metadata": {},
   "outputs": [],
   "source": [
    "# (копипаста классификатора 2 под другим названием)\n",
    "\n",
    "class Classifier_3(torch.nn.Module):\n",
    "    \n",
    "    def __init__(self, \n",
    "               embedding_tensor, \n",
    "               n_classes=5, \n",
    "               sequence_len=32, \n",
    "               rnn_model='LSTM', \n",
    "               padding_index=0, \n",
    "               hidden_size=1024,  \n",
    "               batch_first=True,\n",
    "               cnn_out=256,\n",
    "               kernel_sizes=[2,3,4]):\n",
    "  \n",
    "        super(Classifier_3, self).__init__()\n",
    "  \n",
    "        # embeddings\n",
    "        self.word_embeddings = torch.nn.Embedding.from_pretrained(embedding_tensor)\n",
    "        self.word_embeddings.weight.requires_grad = False\n",
    "        self.drop_en = torch.nn.Dropout(p=0.5) # СДЕЛАЕМ ДРОПАУТ ЭМБЕДДИНГОВ\n",
    "        self.embed_size = embedding_tensor.shape[1]\n",
    "        \n",
    "        \n",
    "        # BiLSTM\n",
    "        if rnn_model == 'LSTM':\n",
    "            self.BiLSTM = torch.nn.LSTM(input_size=self.embed_size, \n",
    "                                          hidden_size=hidden_size, \n",
    "                                          batch_first=True, \n",
    "                                          num_layers=2, # сделаем 2 lstm-слоя вместо 1\n",
    "                                          bidirectional=True,\n",
    "                                          dropout=0.5) # установим здесь dropout - чтобы он был на 1-ом слое bilstm\n",
    "\n",
    "        # convolutional layers    \n",
    "        self.CNN_layer_1 = torch.nn.Sequential(\n",
    "            torch.nn.Conv1d(in_channels=hidden_size*2, out_channels=cnn_out, kernel_size=kernel_sizes[0]),\n",
    "            torch.nn.BatchNorm1d(cnn_out),\n",
    "            torch.nn.ELU(), # попробуем ELU\n",
    "            torch.nn.MaxPool1d(kernel_size=sequence_len - kernel_sizes[0] + 1),\n",
    "        ) # сделаем батч норм\n",
    "    \n",
    "        self.CNN_layer_2 = torch.nn.Sequential(\n",
    "            torch.nn.Conv1d(in_channels=hidden_size*2, out_channels=cnn_out, kernel_size=kernel_sizes[1]),\n",
    "            torch.nn.BatchNorm1d(cnn_out),\n",
    "            torch.nn.ELU(), # попробуем ELU\n",
    "            torch.nn.MaxPool1d(kernel_size=sequence_len - kernel_sizes[1] + 1),\n",
    "        ) # сделаем батч норм\n",
    "    \n",
    "        self.CNN_layer_3 = torch.nn.Sequential(\n",
    "            torch.nn.Conv1d(in_channels=hidden_size*2, out_channels=cnn_out, kernel_size=kernel_sizes[2]),\n",
    "            torch.nn.BatchNorm1d(cnn_out),\n",
    "            torch.nn.ELU(), # попробуем ELU\n",
    "            torch.nn.MaxPool1d(kernel_size=sequence_len - kernel_sizes[2] + 1),\n",
    "        ) # сделаем батч норм\n",
    "        \n",
    "        self.cnn_batch_norm = torch.nn.BatchNorm1d(cnn_out*3) # и еще раз батчнорм для всего выхода с рекуррентного слоя\n",
    "        self.cnn_dropout = torch.nn.Dropout(0.5) \n",
    "        self.linear = torch.nn.Linear(cnn_out*3, n_classes)  \n",
    "  \n",
    "    def forward(self, x):\n",
    "\n",
    "        x_embed = self.word_embeddings(x)\n",
    "        x_embed = self.drop_en(x_embed) # дропаут эмбеддингов\n",
    "\n",
    "        # None is for initial hidden state\n",
    "        out_rnn, ht = self.BiLSTM(x_embed, None)\n",
    "        out_rnn = out_rnn.transpose(1, 2)\n",
    "        \n",
    "        out_cnn_1 = self.CNN_layer_1(out_rnn)\n",
    "        out_cnn_2 = self.CNN_layer_2(out_rnn)\n",
    "        out_cnn_3 = self.CNN_layer_3(out_rnn)\n",
    "\n",
    "        out_cnn = torch.cat([out_cnn_1.squeeze(2), \n",
    "                             out_cnn_2.squeeze(2), \n",
    "                             out_cnn_3.squeeze(2)], dim=1)\n",
    "    \n",
    "        out_cnn = self.cnn_batch_norm(out_cnn)\n",
    "      #  out_cnn = self.cnn_dropout(out_cnn) # добавим здесь тоже dropout\n",
    "        pred = self.linear(out_cnn)\n",
    "        \n",
    "        return pred"
   ]
  },
  {
   "cell_type": "code",
   "execution_count": 34,
   "metadata": {},
   "outputs": [],
   "source": [
    "train_loader = DataLoader(train_data, batch_size=256, drop_last=True)\n",
    "test_loader = DataLoader(test_data, batch_size=256, drop_last=True)\n",
    "\n",
    "epochs = 15\n",
    "\n",
    "device = torch.device('cuda') if torch.cuda.is_available() else torch.device('cpu')"
   ]
  },
  {
   "cell_type": "markdown",
   "metadata": {},
   "source": [
    "# Попробуем SCHEDULER, но сначала определим оптимальный lr"
   ]
  },
  {
   "cell_type": "code",
   "execution_count": 58,
   "metadata": {},
   "outputs": [],
   "source": [
    "min_lr = 10e-7\n",
    "max_lr = 10e1\n",
    "# всего у нас на 15 эпох примерно 11,5 тыс. итераций. Будем определять оптимальный learning rate на 10% - на 1150 итерациях. \n",
    "n_test_iter = 1150"
   ]
  },
  {
   "cell_type": "code",
   "execution_count": null,
   "metadata": {},
   "outputs": [],
   "source": [
    "#!pip install torch-lr-finder"
   ]
  },
  {
   "cell_type": "code",
   "execution_count": 59,
   "metadata": {
    "scrolled": true
   },
   "outputs": [],
   "source": [
    "from torch_lr_finder import LRFinder\n",
    "from torch import optim"
   ]
  },
  {
   "cell_type": "code",
   "execution_count": 61,
   "metadata": {
    "scrolled": false
   },
   "outputs": [
    {
     "data": {
      "application/vnd.jupyter.widget-view+json": {
       "model_id": "eb5c3a649d2e410887405cb448a3bcb8",
       "version_major": 2,
       "version_minor": 0
      },
      "text/plain": [
       "HBox(children=(IntProgress(value=0, max=1150), HTML(value='')))"
      ]
     },
     "metadata": {},
     "output_type": "display_data"
    },
    {
     "name": "stdout",
     "output_type": "stream",
     "text": [
      "Stopping early, the loss has diverged\n",
      "Learning rate search finished. See the graph with {finder_name}.plot()\n"
     ]
    },
    {
     "data": {
      "image/png": "[encoded data removed]",
      "text/plain": [
       "<Figure size 432x288 with 1 Axes>"
      ]
     },
     "metadata": {
      "needs_background": "light"
     },
     "output_type": "display_data"
    }
   ],
   "source": [
    "model_3 = Classifier_3(embedding_tensor=vectors)\n",
    "criterion = torch.nn.CrossEntropyLoss()\n",
    "optimizer = optim.Adam(model_3.parameters(), lr=min_lr)\n",
    "lr_finder = LRFinder(model_3, optimizer, criterion, device=\"cuda\")\n",
    "lr_finder.range_test(train_loader, end_lr=max_lr, num_iter=n_test_iter, step_mode=\"exp\")\n",
    "lr_finder.plot()"
   ]
  },
  {
   "cell_type": "markdown",
   "metadata": {},
   "source": [
    "## C Adam оптимальный lr - от 10^(-6) до 10^(-2).  В итоге остановлюсь на 10^(-4)"
   ]
  },
  {
   "cell_type": "code",
   "execution_count": 43,
   "metadata": {
    "scrolled": false
   },
   "outputs": [
    {
     "data": {
      "application/vnd.jupyter.widget-view+json": {
       "model_id": "813cdb05f3a44c86ba55c5fc5d33cc96",
       "version_major": 2,
       "version_minor": 0
      },
      "text/plain": [
       "HBox(children=(IntProgress(value=0, description='Epoch 1', max=190223, style=ProgressStyle(description_width='…"
      ]
     },
     "metadata": {},
     "output_type": "display_data"
    },
    {
     "name": "stdout",
     "output_type": "stream",
     "text": [
      "\n",
      "Training: train loss = 0.674, test loss = 0.505 \n",
      "Evaluating...\n",
      "Accuracy = 0.814, f1-score = 0.815\n"
     ]
    },
    {
     "data": {
      "application/vnd.jupyter.widget-view+json": {
       "model_id": "f20c104e05834f5c8408b1b875ab6a78",
       "version_major": 2,
       "version_minor": 0
      },
      "text/plain": [
       "HBox(children=(IntProgress(value=0, description='Epoch 2', max=190223, style=ProgressStyle(description_width='…"
      ]
     },
     "metadata": {},
     "output_type": "display_data"
    },
    {
     "name": "stdout",
     "output_type": "stream",
     "text": [
      "\n",
      "Training: train loss = 0.561, test loss = 0.471 \n",
      "Evaluating...\n",
      "Accuracy = 0.830, f1-score = 0.827\n"
     ]
    },
    {
     "data": {
      "application/vnd.jupyter.widget-view+json": {
       "model_id": "9d401f7911464a85b4d74374429605b2",
       "version_major": 2,
       "version_minor": 0
      },
      "text/plain": [
       "HBox(children=(IntProgress(value=0, description='Epoch 3', max=190223, style=ProgressStyle(description_width='…"
      ]
     },
     "metadata": {},
     "output_type": "display_data"
    },
    {
     "name": "stdout",
     "output_type": "stream",
     "text": [
      "\n",
      "Training: train loss = 0.532, test loss = 0.466 \n",
      "Evaluating...\n",
      "Accuracy = 0.830, f1-score = 0.828\n"
     ]
    },
    {
     "data": {
      "application/vnd.jupyter.widget-view+json": {
       "model_id": "db9aa4b63c0a466b868bd51ca2f6a10a",
       "version_major": 2,
       "version_minor": 0
      },
      "text/plain": [
       "HBox(children=(IntProgress(value=0, description='Epoch 4', max=190223, style=ProgressStyle(description_width='…"
      ]
     },
     "metadata": {},
     "output_type": "display_data"
    },
    {
     "name": "stdout",
     "output_type": "stream",
     "text": [
      "\n",
      "Training: train loss = 0.514, test loss = 0.446 \n",
      "Evaluating...\n",
      "Accuracy = 0.839, f1-score = 0.836\n"
     ]
    },
    {
     "data": {
      "application/vnd.jupyter.widget-view+json": {
       "model_id": "5ddd04f0cb374c039fd9897babfddb9c",
       "version_major": 2,
       "version_minor": 0
      },
      "text/plain": [
       "HBox(children=(IntProgress(value=0, description='Epoch 5', max=190223, style=ProgressStyle(description_width='…"
      ]
     },
     "metadata": {},
     "output_type": "display_data"
    },
    {
     "name": "stdout",
     "output_type": "stream",
     "text": [
      "\n",
      "Training: train loss = 0.496, test loss = 0.441 \n",
      "Evaluating...\n",
      "Accuracy = 0.839, f1-score = 0.836\n"
     ]
    },
    {
     "data": {
      "application/vnd.jupyter.widget-view+json": {
       "model_id": "f293e704f9eb47c6a6e95634169bfafb",
       "version_major": 2,
       "version_minor": 0
      },
      "text/plain": [
       "HBox(children=(IntProgress(value=0, description='Epoch 6', max=190223, style=ProgressStyle(description_width='…"
      ]
     },
     "metadata": {},
     "output_type": "display_data"
    },
    {
     "name": "stdout",
     "output_type": "stream",
     "text": [
      "\n",
      "Training: train loss = 0.470, test loss = 0.425 \n",
      "Evaluating...\n",
      "Accuracy = 0.845, f1-score = 0.841\n"
     ]
    },
    {
     "data": {
      "application/vnd.jupyter.widget-view+json": {
       "model_id": "9f6b0beea83744988418d9505cc5fefa",
       "version_major": 2,
       "version_minor": 0
      },
      "text/plain": [
       "HBox(children=(IntProgress(value=0, description='Epoch 7', max=190223, style=ProgressStyle(description_width='…"
      ]
     },
     "metadata": {},
     "output_type": "display_data"
    },
    {
     "name": "stdout",
     "output_type": "stream",
     "text": [
      "\n",
      "Training: train loss = 0.460, test loss = 0.420 \n",
      "Evaluating...\n",
      "Accuracy = 0.847, f1-score = 0.844\n"
     ]
    },
    {
     "data": {
      "application/vnd.jupyter.widget-view+json": {
       "model_id": "6566fa0cc06f4760b2f9d1e56f81e2bb",
       "version_major": 2,
       "version_minor": 0
      },
      "text/plain": [
       "HBox(children=(IntProgress(value=0, description='Epoch 8', max=190223, style=ProgressStyle(description_width='…"
      ]
     },
     "metadata": {},
     "output_type": "display_data"
    },
    {
     "name": "stdout",
     "output_type": "stream",
     "text": [
      "\n",
      "Training: train loss = 0.452, test loss = 0.423 \n",
      "Evaluating...\n",
      "Accuracy = 0.846, f1-score = 0.843\n",
      "Early stopping\n"
     ]
    }
   ],
   "source": [
    "from sklearn.metrics import accuracy_score, f1_score\n",
    "from torch import optim\n",
    "\n",
    "vectors = torch.FloatTensor(vectors)\n",
    "model_3 = Classifier_3(embedding_tensor=vectors).to(device)\n",
    "\n",
    "optimizer = optim.Adam(model_3.parameters(), lr=10e-4)\n",
    "criterion = torch.nn.CrossEntropyLoss()\n",
    "scheduler = optim.lr_scheduler.MultiStepLR(optimizer, milestones=[4,7,9], gamma=0.5, last_epoch=-1)\n",
    "# 3 раза за обучение изменим learning rate - сократим его в 2 раза на 5, 8 и 10 эпохе (4,7,9). \n",
    "\n",
    "iteration_losses_3 = []\n",
    "epoch_train_losses_3 = []\n",
    "epoch_test_losses_3 = []\n",
    "accuracies_3 = []\n",
    "f_scores_3 = []\n",
    "\n",
    "best_test_loss = 1.7 # для early stopping\n",
    "\n",
    "for n_epoch in range(epochs):\n",
    "        \n",
    "    model_3.train()\n",
    "    \n",
    "    train_losses = []\n",
    "    test_losses = []\n",
    "    test_targets = []\n",
    "    test_preds = []\n",
    "    \n",
    "    progress_bar = tqdm(total=len(train_loader.dataset), desc='Epoch {}'.format(n_epoch + 1))\n",
    "\n",
    "    for x, y in train_loader:\n",
    "        \n",
    "        optimizer.zero_grad()\n",
    "        pred = model_3(x.to(device))            \n",
    "        loss = criterion(pred, y.long().to(device))  \n",
    "        loss.backward()\n",
    "        optimizer.step() \n",
    "        \n",
    "        iteration_losses_3.append(loss.item())\n",
    "        train_losses.append(loss.item())\n",
    "        progress_bar.set_postfix(loss=np.mean(iteration_losses_3[-500:]))\n",
    "        progress_bar.update(x.shape[0])\n",
    "        \n",
    "    progress_bar.close()\n",
    "    epoch_train_losses_3.append(np.mean(train_losses))\n",
    "    \n",
    "    model_3.eval()    \n",
    "  \n",
    "    for x_test, y_test in test_loader:\n",
    "        with torch.no_grad():\n",
    "            pred = model_3.forward(x_test.to(device))\n",
    "            test_preds.append(pred.cpu()) \n",
    "        test_targets.append(y_test.long())\n",
    "        loss = criterion(pred, y_test.long().to(device)) \n",
    "        test_losses.append(loss.item()) \n",
    "    \n",
    "    mean_test_loss = np.mean(test_losses)\n",
    "    epoch_test_losses_3.append(mean_test_loss)\n",
    "    \n",
    "    print('Training: train loss = {:.3f}, test loss = {:.3f} '.format(np.mean(train_losses), mean_test_loss))\n",
    "    print(\"Evaluating...\")\n",
    "    \n",
    "    test_preds_cat = torch.cat(test_preds, dim=0)\n",
    "    test_preds_argmax = torch.argmax(test_preds_cat, dim=1)\n",
    "    test_targets = torch.cat(test_targets, dim=0)  \n",
    "\n",
    "    accuracy = accuracy_score(test_targets, test_preds_argmax)\n",
    "    f_score = f1_score(test_targets, test_preds_argmax, average='macro')\n",
    "    accuracies_3.append(accuracy)\n",
    "    f_scores_3.append(f_score)\n",
    "    print('Accuracy = {:.3f}, f1-score = {:.3f}'.format(accuracy, f_score))\n",
    "    \n",
    "    scheduler.step() # вот здесь наш шедьюер\n",
    "    \n",
    "    if mean_test_loss < best_test_loss:\n",
    "        best_test_loss = mean_test_loss\n",
    "    else:\n",
    "        print('Early stopping')\n",
    "        break    "
   ]
  },
  {
   "cell_type": "markdown",
   "metadata": {},
   "source": [
    "# Итак, у этой модели особой разницы с предыдущей моделью нет, разве что она чуть быстрее сошлась"
   ]
  },
  {
   "cell_type": "code",
   "execution_count": 47,
   "metadata": {
    "scrolled": false
   },
   "outputs": [
    {
     "data": {
      "text/plain": [
       "[<matplotlib.lines.Line2D at 0x7ff658ecda20>]"
      ]
     },
     "execution_count": 47,
     "metadata": {},
     "output_type": "execute_result"
    },
    {
     "data": {
      "image/png": "[encoded data removed]",
      "text/plain": [
       "<Figure size 720x720 with 1 Axes>"
      ]
     },
     "metadata": {
      "needs_background": "light"
     },
     "output_type": "display_data"
    }
   ],
   "source": [
    "from pylab import rcParams\n",
    "rcParams['figure.figsize'] = 10, 10\n",
    "\n",
    "plt.title('Third Model Loss (with scheduling)')\n",
    "plt.xlabel('Iterations')\n",
    "plt.ylabel('Loss')\n",
    "plt.grid()\n",
    "plt.plot(iteration_losses_3)"
   ]
  },
  {
   "cell_type": "code",
   "execution_count": 48,
   "metadata": {
    "scrolled": false
   },
   "outputs": [
    {
     "data": {
      "text/plain": [
       "[<matplotlib.lines.Line2D at 0x7ff658e9ef28>]"
      ]
     },
     "execution_count": 48,
     "metadata": {},
     "output_type": "execute_result"
    },
    {
     "data": {
      "image/png": "[encoded data removed]",
      "text/plain": [
       "<Figure size 720x720 with 1 Axes>"
      ]
     },
     "metadata": {
      "needs_background": "light"
     },
     "output_type": "display_data"
    }
   ],
   "source": [
    "plt.title('Third Model Accuracy')\n",
    "plt.xlabel('Epochs')\n",
    "plt.ylabel('Accuracy')\n",
    "plt.grid()\n",
    "plt.plot(accuracies_3)"
   ]
  },
  {
   "cell_type": "code",
   "execution_count": 49,
   "metadata": {
    "scrolled": false
   },
   "outputs": [
    {
     "data": {
      "text/plain": [
       "[<matplotlib.lines.Line2D at 0x7ff658e71a90>]"
      ]
     },
     "execution_count": 49,
     "metadata": {},
     "output_type": "execute_result"
    },
    {
     "data": {
      "image/png": "[encoded data removed]",
      "text/plain": [
       "<Figure size 720x720 with 1 Axes>"
      ]
     },
     "metadata": {
      "needs_background": "light"
     },
     "output_type": "display_data"
    }
   ],
   "source": [
    "plt.title('Third Model F-scores')\n",
    "plt.xlabel('Epochs')\n",
    "plt.ylabel('F-score')\n",
    "plt.grid()\n",
    "plt.plot(f_scores_3)"
   ]
  },
  {
   "cell_type": "markdown",
   "metadata": {},
   "source": [
    "# Теперь будем уменьшать learning rate с помощью scheduler-а тем чаще, чем позднее наша эпоха - сделаем больше milestones ближе к концу обучения"
   ]
  },
  {
   "cell_type": "code",
   "execution_count": 51,
   "metadata": {
    "scrolled": false
   },
   "outputs": [
    {
     "data": {
      "application/vnd.jupyter.widget-view+json": {
       "model_id": "45f46496e16c45f0ae9735075227ed6d",
       "version_major": 2,
       "version_minor": 0
      },
      "text/plain": [
       "HBox(children=(IntProgress(value=0, description='Epoch 1', max=190223, style=ProgressStyle(description_width='…"
      ]
     },
     "metadata": {},
     "output_type": "display_data"
    },
    {
     "name": "stdout",
     "output_type": "stream",
     "text": [
      "\n",
      "Training: train loss = 0.671, test loss = 0.520 \n",
      "Evaluating...\n",
      "Accuracy = 0.808, f1-score = 0.810\n"
     ]
    },
    {
     "data": {
      "application/vnd.jupyter.widget-view+json": {
       "model_id": "0f52874d503a44308ddc85e14cc6d9ed",
       "version_major": 2,
       "version_minor": 0
      },
      "text/plain": [
       "HBox(children=(IntProgress(value=0, description='Epoch 2', max=190223, style=ProgressStyle(description_width='…"
      ]
     },
     "metadata": {},
     "output_type": "display_data"
    },
    {
     "name": "stdout",
     "output_type": "stream",
     "text": [
      "\n",
      "Training: train loss = 0.561, test loss = 0.480 \n",
      "Evaluating...\n",
      "Accuracy = 0.826, f1-score = 0.823\n"
     ]
    },
    {
     "data": {
      "application/vnd.jupyter.widget-view+json": {
       "model_id": "ba6fb54c39154b8ca77c9948bfe35b37",
       "version_major": 2,
       "version_minor": 0
      },
      "text/plain": [
       "HBox(children=(IntProgress(value=0, description='Epoch 3', max=190223, style=ProgressStyle(description_width='…"
      ]
     },
     "metadata": {},
     "output_type": "display_data"
    },
    {
     "name": "stdout",
     "output_type": "stream",
     "text": [
      "\n",
      "Training: train loss = 0.533, test loss = 0.462 \n",
      "Evaluating...\n",
      "Accuracy = 0.830, f1-score = 0.827\n"
     ]
    },
    {
     "data": {
      "application/vnd.jupyter.widget-view+json": {
       "model_id": "e4a62a179c074ba1a4b065b5678f8d77",
       "version_major": 2,
       "version_minor": 0
      },
      "text/plain": [
       "HBox(children=(IntProgress(value=0, description='Epoch 4', max=190223, style=ProgressStyle(description_width='…"
      ]
     },
     "metadata": {},
     "output_type": "display_data"
    },
    {
     "name": "stdout",
     "output_type": "stream",
     "text": [
      "\n",
      "Training: train loss = 0.515, test loss = 0.455 \n",
      "Evaluating...\n",
      "Accuracy = 0.835, f1-score = 0.832\n"
     ]
    },
    {
     "data": {
      "application/vnd.jupyter.widget-view+json": {
       "model_id": "123a1d8417864926990b61f30a6c796b",
       "version_major": 2,
       "version_minor": 0
      },
      "text/plain": [
       "HBox(children=(IntProgress(value=0, description='Epoch 5', max=190223, style=ProgressStyle(description_width='…"
      ]
     },
     "metadata": {},
     "output_type": "display_data"
    },
    {
     "name": "stdout",
     "output_type": "stream",
     "text": [
      "\n",
      "Training: train loss = 0.497, test loss = 0.441 \n",
      "Evaluating...\n",
      "Accuracy = 0.841, f1-score = 0.837\n"
     ]
    },
    {
     "data": {
      "application/vnd.jupyter.widget-view+json": {
       "model_id": "95acaed4516f4dae8f33c95ffc47278f",
       "version_major": 2,
       "version_minor": 0
      },
      "text/plain": [
       "HBox(children=(IntProgress(value=0, description='Epoch 6', max=190223, style=ProgressStyle(description_width='…"
      ]
     },
     "metadata": {},
     "output_type": "display_data"
    },
    {
     "name": "stdout",
     "output_type": "stream",
     "text": [
      "\n",
      "Training: train loss = 0.471, test loss = 0.426 \n",
      "Evaluating...\n",
      "Accuracy = 0.845, f1-score = 0.841\n"
     ]
    },
    {
     "data": {
      "application/vnd.jupyter.widget-view+json": {
       "model_id": "5cb10e62bf7642b89451fe20f31982b8",
       "version_major": 2,
       "version_minor": 0
      },
      "text/plain": [
       "HBox(children=(IntProgress(value=0, description='Epoch 7', max=190223, style=ProgressStyle(description_width='…"
      ]
     },
     "metadata": {},
     "output_type": "display_data"
    },
    {
     "name": "stdout",
     "output_type": "stream",
     "text": [
      "\n",
      "Training: train loss = 0.463, test loss = 0.422 \n",
      "Evaluating...\n",
      "Accuracy = 0.846, f1-score = 0.842\n"
     ]
    },
    {
     "data": {
      "application/vnd.jupyter.widget-view+json": {
       "model_id": "3817e65ce3b14df49994eac704c59e7c",
       "version_major": 2,
       "version_minor": 0
      },
      "text/plain": [
       "HBox(children=(IntProgress(value=0, description='Epoch 8', max=190223, style=ProgressStyle(description_width='…"
      ]
     },
     "metadata": {},
     "output_type": "display_data"
    },
    {
     "name": "stdout",
     "output_type": "stream",
     "text": [
      "\n",
      "Training: train loss = 0.445, test loss = 0.416 \n",
      "Evaluating...\n",
      "Accuracy = 0.848, f1-score = 0.845\n"
     ]
    },
    {
     "data": {
      "application/vnd.jupyter.widget-view+json": {
       "model_id": "03e1842b759e4dffa2b57d7025e9f20f",
       "version_major": 2,
       "version_minor": 0
      },
      "text/plain": [
       "HBox(children=(IntProgress(value=0, description='Epoch 9', max=190223, style=ProgressStyle(description_width='…"
      ]
     },
     "metadata": {},
     "output_type": "display_data"
    },
    {
     "name": "stdout",
     "output_type": "stream",
     "text": [
      "\n",
      "Training: train loss = 0.439, test loss = 0.416 \n",
      "Evaluating...\n",
      "Accuracy = 0.848, f1-score = 0.845\n"
     ]
    },
    {
     "data": {
      "application/vnd.jupyter.widget-view+json": {
       "model_id": "b1a1aaf5b8194785af338b9a8065bf5c",
       "version_major": 2,
       "version_minor": 0
      },
      "text/plain": [
       "HBox(children=(IntProgress(value=0, description='Epoch 10', max=190223, style=ProgressStyle(description_width=…"
      ]
     },
     "metadata": {},
     "output_type": "display_data"
    },
    {
     "name": "stdout",
     "output_type": "stream",
     "text": [
      "\n",
      "Training: train loss = 0.429, test loss = 0.413 \n",
      "Evaluating...\n",
      "Accuracy = 0.849, f1-score = 0.845\n"
     ]
    },
    {
     "data": {
      "application/vnd.jupyter.widget-view+json": {
       "model_id": "9719dd4160ae42c7bf7d09c3aaf75bf8",
       "version_major": 2,
       "version_minor": 0
      },
      "text/plain": [
       "HBox(children=(IntProgress(value=0, description='Epoch 11', max=190223, style=ProgressStyle(description_width=…"
      ]
     },
     "metadata": {},
     "output_type": "display_data"
    },
    {
     "name": "stdout",
     "output_type": "stream",
     "text": [
      "\n",
      "Training: train loss = 0.420, test loss = 0.412 \n",
      "Evaluating...\n",
      "Accuracy = 0.850, f1-score = 0.846\n"
     ]
    },
    {
     "data": {
      "application/vnd.jupyter.widget-view+json": {
       "model_id": "c774d00c88db4e7bade33e4c04e503a5",
       "version_major": 2,
       "version_minor": 0
      },
      "text/plain": [
       "HBox(children=(IntProgress(value=0, description='Epoch 12', max=190223, style=ProgressStyle(description_width=…"
      ]
     },
     "metadata": {},
     "output_type": "display_data"
    },
    {
     "name": "stdout",
     "output_type": "stream",
     "text": [
      "\n",
      "Training: train loss = 0.416, test loss = 0.412 \n",
      "Evaluating...\n",
      "Accuracy = 0.850, f1-score = 0.847\n"
     ]
    },
    {
     "data": {
      "application/vnd.jupyter.widget-view+json": {
       "model_id": "e90bae136c7547f29fd0efefa44e1c40",
       "version_major": 2,
       "version_minor": 0
      },
      "text/plain": [
       "HBox(children=(IntProgress(value=0, description='Epoch 13', max=190223, style=ProgressStyle(description_width=…"
      ]
     },
     "metadata": {},
     "output_type": "display_data"
    },
    {
     "name": "stdout",
     "output_type": "stream",
     "text": [
      "\n",
      "Training: train loss = 0.414, test loss = 0.412 \n",
      "Evaluating...\n",
      "Accuracy = 0.851, f1-score = 0.847\n"
     ]
    },
    {
     "data": {
      "application/vnd.jupyter.widget-view+json": {
       "model_id": "573afca690f54dd3bbb185e41b2fe55c",
       "version_major": 2,
       "version_minor": 0
      },
      "text/plain": [
       "HBox(children=(IntProgress(value=0, description='Epoch 14', max=190223, style=ProgressStyle(description_width=…"
      ]
     },
     "metadata": {},
     "output_type": "display_data"
    },
    {
     "name": "stdout",
     "output_type": "stream",
     "text": [
      "\n",
      "Training: train loss = 0.414, test loss = 0.411 \n",
      "Evaluating...\n",
      "Accuracy = 0.851, f1-score = 0.847\n"
     ]
    },
    {
     "data": {
      "application/vnd.jupyter.widget-view+json": {
       "model_id": "8aeca8cb822641d1ba7505dcc7648dc5",
       "version_major": 2,
       "version_minor": 0
      },
      "text/plain": [
       "HBox(children=(IntProgress(value=0, description='Epoch 15', max=190223, style=ProgressStyle(description_width=…"
      ]
     },
     "metadata": {},
     "output_type": "display_data"
    },
    {
     "name": "stdout",
     "output_type": "stream",
     "text": [
      "\n",
      "Training: train loss = 0.412, test loss = 0.411 \n",
      "Evaluating...\n",
      "Accuracy = 0.851, f1-score = 0.848\n",
      "Early stopping\n"
     ]
    }
   ],
   "source": [
    "from sklearn.metrics import accuracy_score, f1_score\n",
    "from torch import optim\n",
    "\n",
    "vectors = torch.FloatTensor(vectors)\n",
    "model_4 = Classifier_3(embedding_tensor=vectors).to(device)\n",
    "\n",
    "optimizer = optim.Adam(model_4.parameters(), lr=10e-4)\n",
    "criterion = torch.nn.CrossEntropyLoss()\n",
    "scheduler = optim.lr_scheduler.MultiStepLR(optimizer, milestones=[4,6,8,9,10,11,12], gamma=0.5, last_epoch=-1)\n",
    "\n",
    "iteration_losses_4 = []\n",
    "epoch_train_losses_4 = []\n",
    "epoch_test_losses_4 = []\n",
    "accuracies_4 = []\n",
    "f_scores_4 = []\n",
    "\n",
    "best_test_loss = 1.7 # для early stopping\n",
    "\n",
    "for n_epoch in range(epochs):\n",
    "        \n",
    "    model_4.train()\n",
    "    \n",
    "    train_losses = []\n",
    "    test_losses = []\n",
    "    test_targets = []\n",
    "    test_preds = []\n",
    "    \n",
    "    progress_bar = tqdm(total=len(train_loader.dataset), desc='Epoch {}'.format(n_epoch + 1))\n",
    "\n",
    "    for x, y in train_loader:\n",
    "        \n",
    "        optimizer.zero_grad()\n",
    "        pred = model_4(x.to(device))            \n",
    "        loss = criterion(pred, y.long().to(device))  \n",
    "        loss.backward()\n",
    "        optimizer.step() \n",
    "        \n",
    "        iteration_losses_4.append(loss.item())\n",
    "        train_losses.append(loss.item())\n",
    "        progress_bar.set_postfix(loss=np.mean(iteration_losses_4[-500:]))\n",
    "        progress_bar.update(x.shape[0])\n",
    "        \n",
    "    progress_bar.close()\n",
    "    epoch_train_losses_4.append(np.mean(train_losses))\n",
    "    \n",
    "    model_4.eval()    \n",
    "  \n",
    "    for x_test, y_test in test_loader:\n",
    "        with torch.no_grad():\n",
    "            pred = model_4.forward(x_test.to(device))\n",
    "            test_preds.append(pred.cpu()) \n",
    "        test_targets.append(y_test.long())\n",
    "        loss = criterion(pred, y_test.long().to(device)) \n",
    "        test_losses.append(loss.item()) \n",
    "    \n",
    "    mean_test_loss = np.mean(test_losses)\n",
    "    epoch_test_losses_4.append(mean_test_loss)\n",
    "    \n",
    "    print('Training: train loss = {:.3f}, test loss = {:.3f} '.format(np.mean(train_losses), mean_test_loss))\n",
    "    print(\"Evaluating...\")\n",
    "    \n",
    "    test_preds_cat = torch.cat(test_preds, dim=0)\n",
    "    test_preds_argmax = torch.argmax(test_preds_cat, dim=1)\n",
    "    test_targets = torch.cat(test_targets, dim=0)  \n",
    "\n",
    "    accuracy = accuracy_score(test_targets, test_preds_argmax)\n",
    "    f_score = f1_score(test_targets, test_preds_argmax, average='macro')\n",
    "    accuracies_4.append(accuracy)\n",
    "    f_scores_4.append(f_score)\n",
    "    print('Accuracy = {:.3f}, f1-score = {:.3f}'.format(accuracy, f_score))\n",
    "    \n",
    "    scheduler.step()\n",
    "    \n",
    "    if mean_test_loss < best_test_loss:\n",
    "        best_test_loss = mean_test_loss\n",
    "    else:\n",
    "        print('Early stopping')\n",
    "        break    "
   ]
  },
  {
   "cell_type": "markdown",
   "metadata": {},
   "source": [
    "## На графиках ниже видно, что лосс особо не меняется от модели к модели, зато scheduler с постепенным уменьшением learning rate на последних эпохах помог немного дотянуть F-меру до практически 0.85 "
   ]
  },
  {
   "cell_type": "code",
   "execution_count": 56,
   "metadata": {
    "scrolled": false
   },
   "outputs": [
    {
     "data": {
      "text/plain": [
       "[<matplotlib.lines.Line2D at 0x7ff658c02b00>]"
      ]
     },
     "execution_count": 56,
     "metadata": {},
     "output_type": "execute_result"
    },
    {
     "data": {
      "image/png": "[encoded data removed]",
      "text/plain": [
       "<Figure size 720x720 with 1 Axes>"
      ]
     },
     "metadata": {
      "needs_background": "light"
     },
     "output_type": "display_data"
    }
   ],
   "source": [
    "from pylab import rcParams\n",
    "rcParams['figure.figsize'] = 10, 10\n",
    "\n",
    "plt.title('Fourth Model Loss')\n",
    "plt.xlabel('Iterations')\n",
    "plt.ylabel('Loss')\n",
    "plt.grid()\n",
    "plt.plot(iteration_losses_4)"
   ]
  },
  {
   "cell_type": "code",
   "execution_count": 55,
   "metadata": {},
   "outputs": [
    {
     "data": {
      "text/plain": [
       "[<matplotlib.lines.Line2D at 0x7ff658c59860>]"
      ]
     },
     "execution_count": 55,
     "metadata": {},
     "output_type": "execute_result"
    },
    {
     "data": {
      "image/png": "[encoded data removed]",
      "text/plain": [
       "<Figure size 720x720 with 1 Axes>"
      ]
     },
     "metadata": {
      "needs_background": "light"
     },
     "output_type": "display_data"
    }
   ],
   "source": [
    "plt.title('Fourth Model Accuracy')\n",
    "plt.xlabel('Epochs')\n",
    "plt.ylabel('Accuracy')\n",
    "plt.grid()\n",
    "plt.plot(accuracies_4)"
   ]
  },
  {
   "cell_type": "code",
   "execution_count": 57,
   "metadata": {},
   "outputs": [
    {
     "data": {
      "text/plain": [
       "[<matplotlib.lines.Line2D at 0x7ff658bf39b0>]"
      ]
     },
     "execution_count": 57,
     "metadata": {},
     "output_type": "execute_result"
    },
    {
     "data": {
      "image/png": "[encoded data removed]",
      "text/plain": [
       "<Figure size 720x720 with 1 Axes>"
      ]
     },
     "metadata": {
      "needs_background": "light"
     },
     "output_type": "display_data"
    }
   ],
   "source": [
    "plt.title('Fourth Model F-scores')\n",
    "plt.xlabel('Epochs')\n",
    "plt.ylabel('F-score')\n",
    "plt.grid()\n",
    "plt.plot(f_scores_4)"
   ]
  },
  {
   "cell_type": "markdown",
   "metadata": {},
   "source": [
    "# Также мы видим на графиках, что более низкий lr стимулировал более быстрый рост метрик после эпох 4, 6, 8"
   ]
  },
  {
   "cell_type": "code",
   "execution_count": 61,
   "metadata": {},
   "outputs": [],
   "source": [
    "# собираем предсказания и реальные таргеты\n",
    "\n",
    "all_test_preds = []\n",
    "all_test_targets = []\n",
    "\n",
    "for x_test, y_test in test_loader:\n",
    "    with torch.no_grad():\n",
    "        pred = model_4.forward(x_test.to(device))\n",
    "        all_test_preds.append(pred.cpu()) \n",
    "        all_test_targets.append(y_test.long())"
   ]
  },
  {
   "cell_type": "code",
   "execution_count": 62,
   "metadata": {},
   "outputs": [],
   "source": [
    "all_test_preds_cat = torch.cat(all_test_preds, dim=0)\n",
    "all_test_preds_argmax = torch.argmax(all_test_preds_cat, dim=1)\n",
    "all_test_targets = torch.cat(all_test_targets, dim=0) "
   ]
  },
  {
   "cell_type": "code",
   "execution_count": 63,
   "metadata": {},
   "outputs": [
    {
     "data": {
      "text/plain": [
       "dict_keys(['business', 'law', 'love', 'relax', 'food'])"
      ]
     },
     "execution_count": 63,
     "metadata": {},
     "output_type": "execute_result"
    }
   ],
   "source": [
    "labels = cat_mapper.keys()\n",
    "labels"
   ]
  },
  {
   "cell_type": "code",
   "execution_count": 64,
   "metadata": {},
   "outputs": [
    {
     "name": "stdout",
     "output_type": "stream",
     "text": [
      "Normalized confusion matrix\n",
      "[[0.75 0.16 0.01 0.07 0.01]\n",
      " [0.08 0.88 0.02 0.02 0.  ]\n",
      " [0.01 0.03 0.86 0.09 0.01]\n",
      " [0.03 0.03 0.05 0.84 0.05]\n",
      " [0.01 0.01 0.01 0.04 0.93]]\n"
     ]
    },
    {
     "data": {
      "image/png": "[encoded data removed]",
      "text/plain": [
       "<Figure size 720x720 with 2 Axes>"
      ]
     },
     "metadata": {
      "needs_background": "light"
     },
     "output_type": "display_data"
    }
   ],
   "source": [
    "# confusion matrix\n",
    "plot_confusion_matrix(all_test_targets, all_test_preds_argmax, classes=labels, normalize=True,\n",
    "                      title='Confusion matrix')\n",
    "\n",
    "\n",
    "plt.show()"
   ]
  },
  {
   "cell_type": "markdown",
   "metadata": {},
   "source": [
    "# А вот так выглядела предыдущая: \n",
    "\n",
    "Normalized confusion matrix\n",
    "\n",
    "[[0.73 0.18 0.02 0.07 0.01]\n",
    "\n",
    " [0.08 0.87 0.02 0.03 0.  ]\n",
    " \n",
    " [0.01 0.03 0.86 0.08 0.02]\n",
    " \n",
    " [0.04 0.03 0.06 0.81 0.05]\n",
    " \n",
    " [0.01 0.01 0.01 0.05 0.92]]"
   ]
  },
  {
   "cell_type": "markdown",
   "metadata": {},
   "source": [
    "# В итоге качество распознавания 4 классов из 5 повысилось на 1-3 процента, 1 класса - не изменилось"
   ]
  },
  {
   "cell_type": "code",
   "execution_count": null,
   "metadata": {},
   "outputs": [],
   "source": []
  }
 ],
 "metadata": {
  "accelerator": "GPU",
  "colab": {
   "collapsed_sections": [
    "kzxDpueLW-Bh",
    "EPJk8hKyW-Bv"
   ],
   "name": "Classification Subsample Mail.ipynb",
   "provenance": []
  },
  "kernelspec": {
   "display_name": "Python 3",
   "language": "python",
   "name": "python3"
  },
  "language_info": {
   "codemirror_mode": {
    "name": "ipython",
    "version": 3
   },
   "file_extension": ".py",
   "mimetype": "text/x-python",
   "name": "python",
   "nbconvert_exporter": "python",
   "pygments_lexer": "ipython3",
   "version": "3.7.1"
  }
 },
 "nbformat": 4,
 "nbformat_minor": 1
}
